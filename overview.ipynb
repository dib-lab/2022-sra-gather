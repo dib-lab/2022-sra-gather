{
 "cells": [
  {
   "cell_type": "code",
   "execution_count": 1,
   "metadata": {},
   "outputs": [],
   "source": [
    "%matplotlib inline\n",
    "import pandas as pd"
   ]
  },
  {
   "cell_type": "code",
   "execution_count": 2,
   "metadata": {},
   "outputs": [
    {
     "data": {
      "text/html": [
       "<div>\n",
       "<style scoped>\n",
       "    .dataframe tbody tr th:only-of-type {\n",
       "        vertical-align: middle;\n",
       "    }\n",
       "\n",
       "    .dataframe tbody tr th {\n",
       "        vertical-align: top;\n",
       "    }\n",
       "\n",
       "    .dataframe thead th {\n",
       "        text-align: right;\n",
       "    }\n",
       "</style>\n",
       "<table border=\"1\" class=\"dataframe\">\n",
       "  <thead>\n",
       "    <tr style=\"text-align: right;\">\n",
       "      <th></th>\n",
       "      <th>Run</th>\n",
       "      <th>ReleaseDate</th>\n",
       "      <th>LoadDate</th>\n",
       "      <th>spots</th>\n",
       "      <th>bases</th>\n",
       "      <th>spots_with_mates</th>\n",
       "      <th>avgLength</th>\n",
       "      <th>size_MB</th>\n",
       "      <th>AssemblyName</th>\n",
       "      <th>download_path</th>\n",
       "      <th>...</th>\n",
       "      <th>Affection_Status</th>\n",
       "      <th>Analyte_Type</th>\n",
       "      <th>Histological_Type</th>\n",
       "      <th>Body_Site</th>\n",
       "      <th>CenterName</th>\n",
       "      <th>Submission</th>\n",
       "      <th>dbgap_study_accession</th>\n",
       "      <th>Consent</th>\n",
       "      <th>RunHash</th>\n",
       "      <th>ReadHash</th>\n",
       "    </tr>\n",
       "  </thead>\n",
       "  <tbody>\n",
       "    <tr>\n",
       "      <th>0</th>\n",
       "      <td>DRR014176</td>\n",
       "      <td>2015-07-27 10:27:35</td>\n",
       "      <td>2015-07-27 10:32:25</td>\n",
       "      <td>30807540</td>\n",
       "      <td>3734314174</td>\n",
       "      <td>0</td>\n",
       "      <td>121</td>\n",
       "      <td>2297</td>\n",
       "      <td>NaN</td>\n",
       "      <td>https://sra-downloadb.st-va.ncbi.nlm.nih.gov/s...</td>\n",
       "      <td>...</td>\n",
       "      <td>NaN</td>\n",
       "      <td>NaN</td>\n",
       "      <td>NaN</td>\n",
       "      <td>NaN</td>\n",
       "      <td>NIID</td>\n",
       "      <td>DRA001171</td>\n",
       "      <td>NaN</td>\n",
       "      <td>public</td>\n",
       "      <td>4DA05CDDF555DF45B83261F309ADDDE7</td>\n",
       "      <td>CD8372E963A92B67C96160309CBDD52D</td>\n",
       "    </tr>\n",
       "    <tr>\n",
       "      <th>1</th>\n",
       "      <td>SRR8391109</td>\n",
       "      <td>2019-01-07 15:57:36</td>\n",
       "      <td>2019-01-07 15:51:59</td>\n",
       "      <td>1</td>\n",
       "      <td>1332</td>\n",
       "      <td>0</td>\n",
       "      <td>1332</td>\n",
       "      <td>0</td>\n",
       "      <td>NaN</td>\n",
       "      <td>https://sra-downloadb.st-va.ncbi.nlm.nih.gov/s...</td>\n",
       "      <td>...</td>\n",
       "      <td>NaN</td>\n",
       "      <td>NaN</td>\n",
       "      <td>NaN</td>\n",
       "      <td>NaN</td>\n",
       "      <td>CRASSPHAGE CONSORTIUM</td>\n",
       "      <td>SRA830045</td>\n",
       "      <td>NaN</td>\n",
       "      <td>public</td>\n",
       "      <td>0FCC68EB5CA35EE316539F4C0348E54F</td>\n",
       "      <td>39E03A9EF05D22741DCB6E80175743D0</td>\n",
       "    </tr>\n",
       "    <tr>\n",
       "      <th>2</th>\n",
       "      <td>DRR019507</td>\n",
       "      <td>2016-03-05 08:47:09</td>\n",
       "      <td>2016-03-05 08:53:45</td>\n",
       "      <td>8517086</td>\n",
       "      <td>4246043700</td>\n",
       "      <td>8517086</td>\n",
       "      <td>498</td>\n",
       "      <td>2687</td>\n",
       "      <td>NaN</td>\n",
       "      <td>https://sra-downloadb.st-va.ncbi.nlm.nih.gov/s...</td>\n",
       "      <td>...</td>\n",
       "      <td>NaN</td>\n",
       "      <td>NaN</td>\n",
       "      <td>NaN</td>\n",
       "      <td>NaN</td>\n",
       "      <td>MIYAZAKI</td>\n",
       "      <td>DRA001862</td>\n",
       "      <td>NaN</td>\n",
       "      <td>public</td>\n",
       "      <td>4580B926CA1E057CDED2089BF0BB1003</td>\n",
       "      <td>D456B6384D34959FC2706FACB199D719</td>\n",
       "    </tr>\n",
       "    <tr>\n",
       "      <th>3</th>\n",
       "      <td>DRR021939</td>\n",
       "      <td>2015-01-15 10:15:18</td>\n",
       "      <td>2015-01-15 10:18:19</td>\n",
       "      <td>18645</td>\n",
       "      <td>10781479</td>\n",
       "      <td>0</td>\n",
       "      <td>578</td>\n",
       "      <td>28</td>\n",
       "      <td>NaN</td>\n",
       "      <td>https://sra-downloadb.be-md.ncbi.nlm.nih.gov/s...</td>\n",
       "      <td>...</td>\n",
       "      <td>NaN</td>\n",
       "      <td>NaN</td>\n",
       "      <td>NaN</td>\n",
       "      <td>NaN</td>\n",
       "      <td>TOHOKUGL</td>\n",
       "      <td>DRA002421</td>\n",
       "      <td>NaN</td>\n",
       "      <td>public</td>\n",
       "      <td>B36925AE092F9ED96FA6EE6435522481</td>\n",
       "      <td>B904CCB0FE4FA1A287DDB5177B781F85</td>\n",
       "    </tr>\n",
       "    <tr>\n",
       "      <th>4</th>\n",
       "      <td>DRR025071</td>\n",
       "      <td>2016-03-09 18:20:13</td>\n",
       "      <td>2016-03-10 05:18:09</td>\n",
       "      <td>65366252</td>\n",
       "      <td>19609875600</td>\n",
       "      <td>65366252</td>\n",
       "      <td>300</td>\n",
       "      <td>10905</td>\n",
       "      <td>NaN</td>\n",
       "      <td>https://sra-downloadb.st-va.ncbi.nlm.nih.gov/s...</td>\n",
       "      <td>...</td>\n",
       "      <td>NaN</td>\n",
       "      <td>NaN</td>\n",
       "      <td>NaN</td>\n",
       "      <td>NaN</td>\n",
       "      <td>KYOTO_PREF</td>\n",
       "      <td>DRA002733</td>\n",
       "      <td>NaN</td>\n",
       "      <td>public</td>\n",
       "      <td>ED1A01B5C747C37B3641528802099C4C</td>\n",
       "      <td>C55C7EABB80C9A01ADA378250F62561A</td>\n",
       "    </tr>\n",
       "  </tbody>\n",
       "</table>\n",
       "<p>5 rows × 47 columns</p>\n",
       "</div>"
      ],
      "text/plain": [
       "          Run          ReleaseDate             LoadDate     spots  \\\n",
       "0   DRR014176  2015-07-27 10:27:35  2015-07-27 10:32:25  30807540   \n",
       "1  SRR8391109  2019-01-07 15:57:36  2019-01-07 15:51:59         1   \n",
       "2   DRR019507  2016-03-05 08:47:09  2016-03-05 08:53:45   8517086   \n",
       "3   DRR021939  2015-01-15 10:15:18  2015-01-15 10:18:19     18645   \n",
       "4   DRR025071  2016-03-09 18:20:13  2016-03-10 05:18:09  65366252   \n",
       "\n",
       "         bases  spots_with_mates  avgLength  size_MB AssemblyName  \\\n",
       "0   3734314174                 0        121     2297          NaN   \n",
       "1         1332                 0       1332        0          NaN   \n",
       "2   4246043700           8517086        498     2687          NaN   \n",
       "3     10781479                 0        578       28          NaN   \n",
       "4  19609875600          65366252        300    10905          NaN   \n",
       "\n",
       "                                       download_path  ... Affection_Status  \\\n",
       "0  https://sra-downloadb.st-va.ncbi.nlm.nih.gov/s...  ...              NaN   \n",
       "1  https://sra-downloadb.st-va.ncbi.nlm.nih.gov/s...  ...              NaN   \n",
       "2  https://sra-downloadb.st-va.ncbi.nlm.nih.gov/s...  ...              NaN   \n",
       "3  https://sra-downloadb.be-md.ncbi.nlm.nih.gov/s...  ...              NaN   \n",
       "4  https://sra-downloadb.st-va.ncbi.nlm.nih.gov/s...  ...              NaN   \n",
       "\n",
       "  Analyte_Type Histological_Type Body_Site             CenterName Submission  \\\n",
       "0          NaN               NaN       NaN                   NIID  DRA001171   \n",
       "1          NaN               NaN       NaN  CRASSPHAGE CONSORTIUM  SRA830045   \n",
       "2          NaN               NaN       NaN               MIYAZAKI  DRA001862   \n",
       "3          NaN               NaN       NaN               TOHOKUGL  DRA002421   \n",
       "4          NaN               NaN       NaN             KYOTO_PREF  DRA002733   \n",
       "\n",
       "   dbgap_study_accession  Consent                           RunHash  \\\n",
       "0                    NaN   public  4DA05CDDF555DF45B83261F309ADDDE7   \n",
       "1                    NaN   public  0FCC68EB5CA35EE316539F4C0348E54F   \n",
       "2                    NaN   public  4580B926CA1E057CDED2089BF0BB1003   \n",
       "3                    NaN   public  B36925AE092F9ED96FA6EE6435522481   \n",
       "4                    NaN   public  ED1A01B5C747C37B3641528802099C4C   \n",
       "\n",
       "                           ReadHash  \n",
       "0  CD8372E963A92B67C96160309CBDD52D  \n",
       "1  39E03A9EF05D22741DCB6E80175743D0  \n",
       "2  D456B6384D34959FC2706FACB199D719  \n",
       "3  B904CCB0FE4FA1A287DDB5177B781F85  \n",
       "4  C55C7EABB80C9A01ADA378250F62561A  \n",
       "\n",
       "[5 rows x 47 columns]"
      ]
     },
     "execution_count": 2,
     "metadata": {},
     "output_type": "execute_result"
    }
   ],
   "source": [
    "# runinfo: all of the run information, by accession.\n",
    "# note in particular `ScientificName`\n",
    "run_info = pd.read_csv('all.runinfo.csv')\n",
    "run_info.head()"
   ]
  },
  {
   "cell_type": "code",
   "execution_count": 3,
   "metadata": {},
   "outputs": [
    {
     "name": "stdout",
     "output_type": "stream",
     "text": [
      "Of 9988 datasets, 2000 have no matches.\n"
     ]
    }
   ],
   "source": [
    "# our outputs from gather\n",
    "summary_df = pd.read_csv('all.summary.csv')\n",
    "\n",
    "total_num = len(summary_df)\n",
    "num_no_matches = len(summary_df[summary_df['n_matches'] == 0])\n",
    "print(f\"Of {total_num} datasets, {num_no_matches} have no matches.\")"
   ]
  },
  {
   "cell_type": "code",
   "execution_count": 4,
   "metadata": {},
   "outputs": [],
   "source": [
    "# build a df for the non-empty ones\n",
    "nonempty_df = summary_df[summary_df['n_matches'] != 0]"
   ]
  },
  {
   "cell_type": "code",
   "execution_count": 5,
   "metadata": {},
   "outputs": [
    {
     "data": {
      "text/html": [
       "<div>\n",
       "<style scoped>\n",
       "    .dataframe tbody tr th:only-of-type {\n",
       "        vertical-align: middle;\n",
       "    }\n",
       "\n",
       "    .dataframe tbody tr th {\n",
       "        vertical-align: top;\n",
       "    }\n",
       "\n",
       "    .dataframe thead th {\n",
       "        text-align: right;\n",
       "    }\n",
       "</style>\n",
       "<table border=\"1\" class=\"dataframe\">\n",
       "  <thead>\n",
       "    <tr style=\"text-align: right;\">\n",
       "      <th></th>\n",
       "      <th>sample</th>\n",
       "      <th>n_matches</th>\n",
       "      <th>p_weighted_covered</th>\n",
       "    </tr>\n",
       "  </thead>\n",
       "  <tbody>\n",
       "    <tr>\n",
       "      <th>0</th>\n",
       "      <td>DRR014176</td>\n",
       "      <td>373</td>\n",
       "      <td>88.1</td>\n",
       "    </tr>\n",
       "    <tr>\n",
       "      <th>1</th>\n",
       "      <td>DRR019507</td>\n",
       "      <td>97</td>\n",
       "      <td>4.3</td>\n",
       "    </tr>\n",
       "    <tr>\n",
       "      <th>2</th>\n",
       "      <td>DRR021939</td>\n",
       "      <td>1</td>\n",
       "      <td>68.0</td>\n",
       "    </tr>\n",
       "    <tr>\n",
       "      <th>3</th>\n",
       "      <td>DRR025071</td>\n",
       "      <td>1069</td>\n",
       "      <td>39.1</td>\n",
       "    </tr>\n",
       "    <tr>\n",
       "      <th>4</th>\n",
       "      <td>DRR033608</td>\n",
       "      <td>26</td>\n",
       "      <td>12.2</td>\n",
       "    </tr>\n",
       "  </tbody>\n",
       "</table>\n",
       "</div>"
      ],
      "text/plain": [
       "      sample  n_matches  p_weighted_covered\n",
       "0  DRR014176        373                88.1\n",
       "1  DRR019507         97                 4.3\n",
       "2  DRR021939          1                68.0\n",
       "3  DRR025071       1069                39.1\n",
       "4  DRR033608         26                12.2"
      ]
     },
     "execution_count": 5,
     "metadata": {},
     "output_type": "execute_result"
    }
   ],
   "source": [
    "nonempty_df.head()"
   ]
  },
  {
   "cell_type": "code",
   "execution_count": 6,
   "metadata": {},
   "outputs": [
    {
     "data": {
      "text/html": [
       "<div>\n",
       "<style scoped>\n",
       "    .dataframe tbody tr th:only-of-type {\n",
       "        vertical-align: middle;\n",
       "    }\n",
       "\n",
       "    .dataframe tbody tr th {\n",
       "        vertical-align: top;\n",
       "    }\n",
       "\n",
       "    .dataframe thead th {\n",
       "        text-align: right;\n",
       "    }\n",
       "</style>\n",
       "<table border=\"1\" class=\"dataframe\">\n",
       "  <thead>\n",
       "    <tr style=\"text-align: right;\">\n",
       "      <th></th>\n",
       "      <th>n_matches</th>\n",
       "      <th>p_weighted_covered</th>\n",
       "    </tr>\n",
       "  </thead>\n",
       "  <tbody>\n",
       "    <tr>\n",
       "      <th>count</th>\n",
       "      <td>7988.000000</td>\n",
       "      <td>7988.000000</td>\n",
       "    </tr>\n",
       "    <tr>\n",
       "      <th>mean</th>\n",
       "      <td>273.413495</td>\n",
       "      <td>49.273748</td>\n",
       "    </tr>\n",
       "    <tr>\n",
       "      <th>std</th>\n",
       "      <td>455.414336</td>\n",
       "      <td>33.120600</td>\n",
       "    </tr>\n",
       "    <tr>\n",
       "      <th>min</th>\n",
       "      <td>1.000000</td>\n",
       "      <td>0.000000</td>\n",
       "    </tr>\n",
       "    <tr>\n",
       "      <th>25%</th>\n",
       "      <td>3.000000</td>\n",
       "      <td>16.100000</td>\n",
       "    </tr>\n",
       "    <tr>\n",
       "      <th>50%</th>\n",
       "      <td>64.000000</td>\n",
       "      <td>50.600000</td>\n",
       "    </tr>\n",
       "    <tr>\n",
       "      <th>75%</th>\n",
       "      <td>376.000000</td>\n",
       "      <td>81.600000</td>\n",
       "    </tr>\n",
       "    <tr>\n",
       "      <th>max</th>\n",
       "      <td>6215.000000</td>\n",
       "      <td>100.000000</td>\n",
       "    </tr>\n",
       "  </tbody>\n",
       "</table>\n",
       "</div>"
      ],
      "text/plain": [
       "         n_matches  p_weighted_covered\n",
       "count  7988.000000         7988.000000\n",
       "mean    273.413495           49.273748\n",
       "std     455.414336           33.120600\n",
       "min       1.000000            0.000000\n",
       "25%       3.000000           16.100000\n",
       "50%      64.000000           50.600000\n",
       "75%     376.000000           81.600000\n",
       "max    6215.000000          100.000000"
      ]
     },
     "execution_count": 6,
     "metadata": {},
     "output_type": "execute_result"
    }
   ],
   "source": [
    "nonempty_df.describe()"
   ]
  },
  {
   "cell_type": "code",
   "execution_count": 7,
   "metadata": {},
   "outputs": [
    {
     "data": {
      "text/html": [
       "<div>\n",
       "<style scoped>\n",
       "    .dataframe tbody tr th:only-of-type {\n",
       "        vertical-align: middle;\n",
       "    }\n",
       "\n",
       "    .dataframe tbody tr th {\n",
       "        vertical-align: top;\n",
       "    }\n",
       "\n",
       "    .dataframe thead th {\n",
       "        text-align: right;\n",
       "    }\n",
       "</style>\n",
       "<table border=\"1\" class=\"dataframe\">\n",
       "  <thead>\n",
       "    <tr style=\"text-align: right;\">\n",
       "      <th></th>\n",
       "      <th>n_matches</th>\n",
       "      <th>p_weighted_covered</th>\n",
       "      <th>ScientificName</th>\n",
       "    </tr>\n",
       "  </thead>\n",
       "  <tbody>\n",
       "    <tr>\n",
       "      <th>DRR014176</th>\n",
       "      <td>373</td>\n",
       "      <td>88.1</td>\n",
       "      <td>human metagenome</td>\n",
       "    </tr>\n",
       "    <tr>\n",
       "      <th>DRR019507</th>\n",
       "      <td>97</td>\n",
       "      <td>4.3</td>\n",
       "      <td>Bos taurus</td>\n",
       "    </tr>\n",
       "    <tr>\n",
       "      <th>DRR021939</th>\n",
       "      <td>1</td>\n",
       "      <td>68.0</td>\n",
       "      <td>uncultured bacterium</td>\n",
       "    </tr>\n",
       "    <tr>\n",
       "      <th>DRR025071</th>\n",
       "      <td>1069</td>\n",
       "      <td>39.1</td>\n",
       "      <td>pig gut metagenome</td>\n",
       "    </tr>\n",
       "    <tr>\n",
       "      <th>DRR033608</th>\n",
       "      <td>26</td>\n",
       "      <td>12.2</td>\n",
       "      <td>human oral metagenome</td>\n",
       "    </tr>\n",
       "  </tbody>\n",
       "</table>\n",
       "</div>"
      ],
      "text/plain": [
       "           n_matches  p_weighted_covered         ScientificName\n",
       "DRR014176        373                88.1       human metagenome\n",
       "DRR019507         97                 4.3             Bos taurus\n",
       "DRR021939          1                68.0   uncultured bacterium\n",
       "DRR025071       1069                39.1     pig gut metagenome\n",
       "DRR033608         26                12.2  human oral metagenome"
      ]
     },
     "execution_count": 7,
     "metadata": {},
     "output_type": "execute_result"
    }
   ],
   "source": [
    "# CTB note: this join may duplicate columns. FIXME.\n",
    "nonempty_df2 = nonempty_df.set_index('sample').join(run_info.set_index(\"Run\")['ScientificName'])\n",
    "nonempty_df2[~nonempty_df2.ScientificName.isnull()].head()"
   ]
  },
  {
   "cell_type": "code",
   "execution_count": 8,
   "metadata": {},
   "outputs": [
    {
     "data": {
      "text/plain": [
       "8055"
      ]
     },
     "execution_count": 8,
     "metadata": {},
     "output_type": "execute_result"
    }
   ],
   "source": [
    "len(nonempty_df2.ScientificName.isnull())"
   ]
  },
  {
   "cell_type": "code",
   "execution_count": 9,
   "metadata": {},
   "outputs": [
    {
     "data": {
      "text/html": [
       "<div>\n",
       "<style scoped>\n",
       "    .dataframe tbody tr th:only-of-type {\n",
       "        vertical-align: middle;\n",
       "    }\n",
       "\n",
       "    .dataframe tbody tr th {\n",
       "        vertical-align: top;\n",
       "    }\n",
       "\n",
       "    .dataframe thead th {\n",
       "        text-align: right;\n",
       "    }\n",
       "</style>\n",
       "<table border=\"1\" class=\"dataframe\">\n",
       "  <thead>\n",
       "    <tr style=\"text-align: right;\">\n",
       "      <th></th>\n",
       "      <th>Organism Name</th>\n",
       "      <th>sample_type</th>\n",
       "    </tr>\n",
       "  </thead>\n",
       "  <tbody>\n",
       "    <tr>\n",
       "      <th>0</th>\n",
       "      <td>viral metagenome</td>\n",
       "      <td>viral metagenome</td>\n",
       "    </tr>\n",
       "    <tr>\n",
       "      <th>1</th>\n",
       "      <td>human viral metagenome</td>\n",
       "      <td>viral metagenome</td>\n",
       "    </tr>\n",
       "    <tr>\n",
       "      <th>2</th>\n",
       "      <td>marine metagenome</td>\n",
       "      <td>marine metagenome</td>\n",
       "    </tr>\n",
       "    <tr>\n",
       "      <th>3</th>\n",
       "      <td>human oral metagenome</td>\n",
       "      <td>human metagenome</td>\n",
       "    </tr>\n",
       "    <tr>\n",
       "      <th>4</th>\n",
       "      <td>Equus caballus</td>\n",
       "      <td>animal metagenome</td>\n",
       "    </tr>\n",
       "  </tbody>\n",
       "</table>\n",
       "</div>"
      ],
      "text/plain": [
       "            Organism Name        sample_type\n",
       "0        viral metagenome   viral metagenome\n",
       "1  human viral metagenome   viral metagenome\n",
       "2       marine metagenome  marine metagenome\n",
       "3   human oral metagenome   human metagenome\n",
       "4          Equus caballus  animal metagenome"
      ]
     },
     "execution_count": 9,
     "metadata": {},
     "output_type": "execute_result"
    }
   ],
   "source": [
    "# our hand-coded remapping information for `ScientificName` to collate.\n",
    "sra_remapping = pd.read_csv('categories/mapping.csv')\n",
    "sra_remapping.head()"
   ]
  },
  {
   "cell_type": "code",
   "execution_count": 10,
   "metadata": {},
   "outputs": [],
   "source": [
    "# remap all the `ScientificName` into `sample_type`, paying attention to our hand coding.\n",
    "# if not recoded, just return original value.\n",
    "#\n",
    "# this could be made much faster with pandas magic. FIXME!\n",
    "def do_remap(val):\n",
    "    new_vals = list(sra_remapping[sra_remapping['Organism Name'] == val].sample_type)\n",
    "    if new_vals:\n",
    "        return new_vals[0]\n",
    "    return val\n",
    "    \n",
    "nonempty_df2['sample_type'] = nonempty_df2['ScientificName'].apply(do_remap)"
   ]
  },
  {
   "cell_type": "code",
   "execution_count": 11,
   "metadata": {},
   "outputs": [
    {
     "data": {
      "text/plain": [
       "human metagenome            3907\n",
       "animal metagenome            524\n",
       "unknown                      502\n",
       "soil metagenome              396\n",
       "marine metagenome            260\n",
       "plant metagenome             127\n",
       "freshwater metagenome        113\n",
       "sediment metagenome          107\n",
       "viral metagenome             100\n",
       "bacterium                     68\n",
       "wastewater metagenome         64\n",
       "indoor metagenome             64\n",
       "aquatic metagenome            49\n",
       "food metagenome               42\n",
       "groundwater metagenome        38\n",
       "bioreactor metagenome         34\n",
       "hot springs metagenome        33\n",
       "human vaginal metagenome      32\n",
       "milk metagenome               32\n",
       "biofilm metagenome            31\n",
       "Name: sample_type, dtype: int64"
      ]
     },
     "execution_count": 11,
     "metadata": {},
     "output_type": "execute_result"
    }
   ],
   "source": [
    "# count the things.\n",
    "nonempty_df2[\"sample_type\"].value_counts()[:20]"
   ]
  },
  {
   "cell_type": "code",
   "execution_count": 12,
   "metadata": {},
   "outputs": [
    {
     "name": "stdout",
     "output_type": "stream",
     "text": [
      "['human metagenome', 'animal metagenome', 'unknown', 'soil metagenome', 'marine metagenome']\n"
     ]
    }
   ],
   "source": [
    "#plot_names = ['human metagenome', 'marine metagenome']\n",
    "# pick the top NUM to plot\n",
    "NUM=5\n",
    "plot_names = list(nonempty_df2[\"sample_type\"].value_counts()[0:NUM].index)\n",
    "print(plot_names)"
   ]
  },
  {
   "cell_type": "code",
   "execution_count": 13,
   "metadata": {},
   "outputs": [
    {
     "data": {
      "image/png": "[encoded data removed]",
      "text/plain": [
       "<Figure size 1440x360 with 1 Axes>"
      ]
     },
     "metadata": {
      "needs_background": "light"
     },
     "output_type": "display_data"
    }
   ],
   "source": [
    "import matplotlib.pyplot as plt\n",
    "\n",
    "fig, axes = plt.subplots(figsize=[20, 5])\n",
    "\n",
    "datasets = []\n",
    "for name in plot_names:\n",
    "    datasets.append(nonempty_df2[nonempty_df2.sample_type == name][\"p_weighted_covered\"].values)\n",
    "\n",
    "axes.violinplot(dataset = datasets)\n",
    "#                           nonempty_df[df.Scenario == 'S2'][\"LMP\"].values,\n",
    "\n",
    "axes.set_title('percent classified (abund weighted)')\n",
    "axes.yaxis.grid(True)\n",
    "#axes.set_xlabel('Scenario')\n",
    "#axes.set_ylabel('LMP ($/MWh)')\n",
    "\n",
    "labels = [ f\"{n} ({len(d)})\" for (n, d) in zip(plot_names, datasets) ]\n",
    "\n",
    "axes.set_xticks([y + 1 for y in range(len(plot_names))],\n",
    "                labels=labels)\n",
    "axes.set_ylabel('percent covered by known genomes')\n",
    "\n",
    "#plt.show()\n",
    "None"
   ]
  },
  {
   "cell_type": "code",
   "execution_count": 14,
   "metadata": {},
   "outputs": [
    {
     "data": {
      "image/png": "[encoded data removed]",
      "text/plain": [
       "<Figure size 1440x360 with 1 Axes>"
      ]
     },
     "metadata": {
      "needs_background": "light"
     },
     "output_type": "display_data"
    }
   ],
   "source": [
    "import matplotlib.pyplot as plt\n",
    "\n",
    "fig, axes = plt.subplots(figsize=[20, 5])\n",
    "\n",
    "datasets = []\n",
    "for name in plot_names:\n",
    "    datasets.append(nonempty_df2[nonempty_df2.sample_type == name][\"n_matches\"].values)\n",
    "\n",
    "axes.violinplot(dataset = datasets)\n",
    "#                           nonempty_df[df.Scenario == 'S2'][\"LMP\"].values,\n",
    "\n",
    "axes.set_title('total number of matches')\n",
    "axes.yaxis.grid(True)\n",
    "#axes.set_xlabel('Scenario')\n",
    "#axes.set_ylabel('LMP ($/MWh)')\n",
    "\n",
    "labels = [ f\"{n} ({len(d)})\" for (n, d) in zip(plot_names, datasets) ]\n",
    "\n",
    "axes.set_xticks([y + 1 for y in range(len(plot_names))],\n",
    "                labels=labels)\n",
    "#axes.set_xlabel('Four separate samples')\n",
    "\n",
    "#plt.show()\n",
    "None"
   ]
  }
 ],
 "metadata": {
  "kernelspec": {
   "display_name": "Python (myenv)",
   "language": "python",
   "name": "myenv"
  },
  "language_info": {
   "codemirror_mode": {
    "name": "ipython",
    "version": 3
   },
   "file_extension": ".py",
   "mimetype": "text/x-python",
   "name": "python",
   "nbconvert_exporter": "python",
   "pygments_lexer": "ipython3",
   "version": "3.7.6"
  }
 },
 "nbformat": 4,
 "nbformat_minor": 4
}
