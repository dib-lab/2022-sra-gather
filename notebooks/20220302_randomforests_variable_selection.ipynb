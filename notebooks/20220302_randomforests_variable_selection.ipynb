{
 "cells": [
  {
   "cell_type": "markdown",
   "id": "03313389",
   "metadata": {},
   "source": [
    "# Random forests to predict ScientificName and determine genomes that impact the accuracy of that classification most"
   ]
  },
  {
   "cell_type": "code",
   "execution_count": 2,
   "id": "6269bf83",
   "metadata": {},
   "outputs": [],
   "source": [
    "setwd(\"..\")"
   ]
  },
  {
   "cell_type": "code",
   "execution_count": 50,
   "id": "1bcc04d8",
   "metadata": {},
   "outputs": [],
   "source": [
    "library(readr)\n",
    "library(dplyr)\n",
    "library(purrr)\n",
    "library(tidyr)\n",
    "library(tibble)\n",
    "library(ggplot2)\n",
    "library(caret)\n",
    "library(ranger)\n",
    "source(\"scripts/utils.R\")"
   ]
  },
  {
   "cell_type": "code",
   "execution_count": null,
   "id": "9e4b443c",
   "metadata": {},
   "outputs": [],
   "source": [
    "# set.seed(1) # note I forgot to run this for the current output. sigh."
   ]
  },
  {
   "cell_type": "code",
   "execution_count": 3,
   "id": "da6d1675",
   "metadata": {},
   "outputs": [],
   "source": [
    "# change default figure size\n",
    "options(repr.plot.width=15, repr.plot.height=7)\n",
    "# disable scientific notation (for plot axes)\n",
    "options(scipen = 999)"
   ]
  },
  {
   "cell_type": "markdown",
   "id": "984395cf",
   "metadata": {},
   "source": [
    "## Read in gather results and sample metadata"
   ]
  },
  {
   "cell_type": "code",
   "execution_count": 4,
   "id": "4751f1ac",
   "metadata": {},
   "outputs": [],
   "source": [
    "# separate empty files from populated files\n",
    "files <- Sys.glob(\"results/*gather.csv\")\n",
    "empty_files <- character()\n",
    "populated_files <- character()\n",
    "for(i in 1:length(files)){\n",
    "    # check and see if the file is empty, e.g. has not gather matches\n",
    "    file_size <- file.size(files[i])\n",
    "    if(file_size == 0){\n",
    "        empty_files = c(empty_files, files[i])\n",
    "    } else {\n",
    "        populated_files = c(populated_files, files[i])\n",
    "    }\n",
    "}"
   ]
  },
  {
   "cell_type": "code",
   "execution_count": 8,
   "id": "8d5ba62b",
   "metadata": {},
   "outputs": [],
   "source": [
    "# read in populated files\n",
    "gather_results <- populated_files %>%\n",
    "  map_dfr(read_gather)"
   ]
  },
  {
   "cell_type": "code",
   "execution_count": 9,
   "id": "e5363a97",
   "metadata": {},
   "outputs": [],
   "source": [
    "# combine populated files with empty files\n",
    "query_name <- gsub(\"\\\\.gather\\\\.csv\", \"\", basename(empty_files))\n",
    "query_name <- as.data.frame(query_name)\n",
    "gather_results <- bind_rows(gather_results, query_name)"
   ]
  },
  {
   "cell_type": "code",
   "execution_count": 10,
   "id": "f4b38807",
   "metadata": {},
   "outputs": [
    {
     "name": "stderr",
     "output_type": "stream",
     "text": [
      "Warning message:\n",
      "“One or more parsing issues, see `problems()` for details”\n",
      "\u001b[1mRows: \u001b[22m\u001b[34m15190\u001b[39m \u001b[1mColumns: \u001b[22m\u001b[34m47\u001b[39m\n",
      "\n",
      "\u001b[36m──\u001b[39m \u001b[1mColumn specification\u001b[22m \u001b[36m────────────────────────────────────────────────────────────────────────────────────────────────────────────────────────────\u001b[39m\n",
      "\u001b[1mDelimiter:\u001b[22m \",\"\n",
      "\u001b[31mchr\u001b[39m  (29): Run, AssemblyName, download_path, Experiment, LibraryName, Librar...\n",
      "\u001b[32mdbl\u001b[39m  (10): spots, bases, spots_with_mates, avgLength, size_MB, InsertSize, I...\n",
      "\u001b[33mlgl\u001b[39m   (6): g1k_pop_code, source, g1k_analysis_group, Disease, Affection_Stat...\n",
      "\u001b[34mdttm\u001b[39m  (2): ReleaseDate, LoadDate\n",
      "\n",
      "\n",
      "\u001b[36mℹ\u001b[39m Use `spec()` to retrieve the full column specification for this data.\n",
      "\u001b[36mℹ\u001b[39m Specify the column types or set `show_col_types = FALSE` to quiet this message.\n",
      "\n"
     ]
    }
   ],
   "source": [
    "# join gather results with metadata\n",
    "runinfo <- read_csv(\"all.runinfo.csv\")\n",
    "gather_results <- left_join(gather_results, runinfo, by = c(\"query_name\" = \"Run\"))"
   ]
  },
  {
   "cell_type": "markdown",
   "id": "a1933caf",
   "metadata": {},
   "source": [
    "## Filter to biomes that have many observations and have names that make sense in a metagenome context"
   ]
  },
  {
   "cell_type": "code",
   "execution_count": 58,
   "id": "6bf82c8a",
   "metadata": {},
   "outputs": [],
   "source": [
    "# table(gather_results$ScientificName) # must have at least 10 and not be a species name to be kept\n",
    "# and not be something amorphous like \"environmental samples\" or \"mixed sample\""
   ]
  },
  {
   "cell_type": "code",
   "execution_count": 15,
   "id": "73f2b00b",
   "metadata": {},
   "outputs": [],
   "source": [
    "filter_set <-c(\"human gut metagenome\", \"gut metagenome\", \"metagenome\", \"soil metagenome\", \"human metagenome\", \n",
    "               \"marine metagenome\", \"wastewater metagenome\", \"pig gut metagenome\", \"sediment metagenome\", \n",
    "               \"feces metagenome\", \"freshwater metagenome\", \"bovine gut metagenome\", \"mouse gut metagenome\", \n",
    "               \"human skin metagenome\", \"seawater metagenome\", \"human oral metagenome\", \"aquatic metagenome\", \n",
    "               \"rhizosphere metagenome\", \"sludge metagenome\", \"chicken gut metagenome\", \"activated sludge metagenome\",\n",
    "               \"peat metagenome\", \"lake water metagenome\", \"air metagenome\", \"marine plankton metagenome\", \n",
    "               \"viral metagenome\", \"root metagenome\", \"bat metagenome\", \"biofilm metagenome\", \"biofilter metagenome\",\n",
    "               \"activated carbon metagenome\", \"algae metagenome\", \"anaerobic digester metagenome\", \"annelid metagenome\",\n",
    "               \"biogas fermenter metagenome\", \"bioreactor metagenome\", \"bioreactor sludge metagenome\", \"bird metagenome\",\n",
    "               \"blood metagenome\", \"bovine metagenome\", \"canine metagenome\", \"cetacean metagenome\", \"ciliate metagenome\",\n",
    "               \"coral metagenome\", \"compost metagenome\", \"coral reef metagenome\", \"crab metagenome\", \"crustacean metagenome\",\n",
    "               \"drinking water metagenome\", \"dust metagenome\", \"echinoderm metagenome\", \"epibiont metagenome\",\n",
    "               \"estuary metagenome\", \"fermentation metagenome\", \"fish gut metagenome\", \"fish metagenome\", \n",
    "               \"food contamination metagenome\", \"food fermentation metagenome\", \"food metagenome\", \n",
    "               \"food production metagenome\", \"fossil metagenome\", \"fungus metagenome\", \"glacier metagenome\", \n",
    "               \"groundwater metagenome\", \"halite metagenome\", \"horse metagenome\", \"hospital metagenome\",\n",
    "               \"hot springs metagenome\", \"human blood metagenome\", \"human eye metagenome\", \"human feces metagenome\",\n",
    "               \"human lung metagenome\", \"human milk metagenome\", \"human nasopharyngeal metagenome\", \n",
    "               \"human saliva metagenome\", \"human skeleton metagenome\", \"human tracheal metagenome\",\n",
    "               \"human urinary tract metagenome\", \"human vaginal metagenome\", \"human viral metagenome\", \n",
    "               \"hydrothermal vent metagenome\", \"hypersaline lake metagenome\", \"indoor metagenome\",\n",
    "               \"industrial waste metagenome\", \"insect gut metagenome\", \"insect metagenome\", \"invertebrate metagenome\",\n",
    "               \"lichen metagenome\", \"lung metagenome\", \"mangrove metagenome\", \"manure metagenome\", \"marine sediment metagenome\",\n",
    "               \"metagenomes\", \"microbial mat metagenome\", \"milk metagenome\", \"mine drainage metagenome\", \"mine tailings metagenome\",\n",
    "               \"mixed culture metagenome\", \"mollusc metagenome\", \"money metagenome\", \"mosquito metagenome\", \"mouse metagenome\",\n",
    "               \"oral metagenome\", \"pig metagenome\", \"plant metagenome\", \"pond metagenome\", \"rat gut metagenome\", \n",
    "               \"reproductive system metagenome\", \"respiratory tract metagenome\", \"riverine metagenome\", \"rock metagenome\",\n",
    "               \"rodent metagenome\", \"salt lake metagenome\", \"salt marsh metagenome\", \"sand metagenome\", \"sea squirt metagenome\",\n",
    "               \"Severe acute respiratory syndrome coronavirus 2\", \"sheep gut metagenome\", \"shrimp gut metagenome\",\n",
    "               \"soil crust metagenome\", \"sponge metagenome\", \"starfish metagenome\", \"subsurface metagenome\", \n",
    "               \"symbiont metagenome\", \"synthetic metagenome\", \"termite gut metagenome\", \"terrestrial metagenome\", \n",
    "               \"tick metagenome\", \"uncultured human fecal virus\", \"uncultured virus\", \"unidentified\",\n",
    "               \"upper respiratory tract metagenome\", \"urinary tract metagenome\", \"urine metagenome\", \"vaginal metagenome\",\n",
    "               \"wetland metagenome\", \"whole organism metagenome\", \"wine metagenome\")"
   ]
  },
  {
   "cell_type": "code",
   "execution_count": 16,
   "id": "72961718",
   "metadata": {},
   "outputs": [
    {
     "data": {
      "text/html": [
       "138"
      ],
      "text/latex": [
       "138"
      ],
      "text/markdown": [
       "138"
      ],
      "text/plain": [
       "[1] 138"
      ]
     },
     "metadata": {},
     "output_type": "display_data"
    },
    {
     "data": {
      "text/html": [
       "138"
      ],
      "text/latex": [
       "138"
      ],
      "text/markdown": [
       "138"
      ],
      "text/plain": [
       "[1] 138"
      ]
     },
     "metadata": {},
     "output_type": "display_data"
    },
    {
     "data": {
      "text/plain": [
       "\n",
       "TRUE \n",
       " 138 "
      ]
     },
     "metadata": {},
     "output_type": "display_data"
    },
    {
     "data": {
      "text/html": [],
      "text/latex": [],
      "text/markdown": [],
      "text/plain": [
       "character(0)"
      ]
     },
     "metadata": {},
     "output_type": "display_data"
    }
   ],
   "source": [
    "# make sure set is typo free and doesn't contain duplicates\n",
    "length(filter_set)\n",
    "length(unique(filter_set))\n",
    "table(filter_set %in% gather_results$ScientificName)\n",
    "filter_set[!filter_set %in% gather_results$ScientificName]"
   ]
  },
  {
   "cell_type": "code",
   "execution_count": 17,
   "id": "9411cc91",
   "metadata": {},
   "outputs": [],
   "source": [
    "# filter gather_results to only contain observations in filter_set\n",
    "gather_results <- gather_results %>%\n",
    "  filter(ScientificName %in% filter_set)"
   ]
  },
  {
   "cell_type": "code",
   "execution_count": 18,
   "id": "0c3399af",
   "metadata": {},
   "outputs": [
    {
     "data": {
      "text/html": [
       "2058211"
      ],
      "text/latex": [
       "2058211"
      ],
      "text/markdown": [
       "2058211"
      ],
      "text/plain": [
       "[1] 2058211"
      ]
     },
     "metadata": {},
     "output_type": "display_data"
    }
   ],
   "source": [
    "nrow(gather_results)"
   ]
  },
  {
   "cell_type": "code",
   "execution_count": 19,
   "id": "1e651d0d",
   "metadata": {},
   "outputs": [
    {
     "data": {
      "text/html": [
       "8716"
      ],
      "text/latex": [
       "8716"
      ],
      "text/markdown": [
       "8716"
      ],
      "text/plain": [
       "[1] 8716"
      ]
     },
     "metadata": {},
     "output_type": "display_data"
    },
    {
     "data": {
      "text/html": [
       "76379"
      ],
      "text/latex": [
       "76379"
      ],
      "text/markdown": [
       "76379"
      ],
      "text/plain": [
       "[1] 76379"
      ]
     },
     "metadata": {},
     "output_type": "display_data"
    }
   ],
   "source": [
    "# number of samples (metagenomes)\n",
    "gather_results %>%\n",
    "  select(query_name) %>%\n",
    "  distinct() %>%\n",
    "  nrow()\n",
    "\n",
    "# number of genomes observed in those samples (metagenomes)\n",
    "gather_results %>%\n",
    "  select(name) %>%\n",
    "  distinct() %>%\n",
    "  nrow()"
   ]
  },
  {
   "cell_type": "markdown",
   "id": "41cd00ac",
   "metadata": {},
   "source": [
    "_NB_ data are still high dimensional -- we have many more variables (genomes) than we have samples (metagenomes)  \n",
    "Variable selection is probably recommended "
   ]
  },
  {
   "cell_type": "markdown",
   "id": "a6931688",
   "metadata": {},
   "source": [
    "## Format for random forests"
   ]
  },
  {
   "cell_type": "code",
   "execution_count": 26,
   "id": "786243c8",
   "metadata": {},
   "outputs": [],
   "source": [
    "# samples (metagenomes) need to be rownames, names (genomes) need to be columns, class (ScientificName) can be a column at end of df for now\n",
    "gather_formatted <- gather_results %>%\n",
    "  mutate(accession = gsub(\" .*\", \"\", name)) %>% # make genome names more friendly\n",
    "  select(query_name, ScientificName, accession, f_unique_to_query) %>%\n",
    "  distinct() %>% # somehow duplicates snuck in?\n",
    "  pivot_wider(id_cols = c(\"query_name\", \"ScientificName\"), names_from = accession, values_from = f_unique_to_query)"
   ]
  },
  {
   "cell_type": "code",
   "execution_count": 28,
   "id": "4bfc4afe",
   "metadata": {},
   "outputs": [],
   "source": [
    "gather_formatted[is.na(gather_formatted)] <- 0 # replace NAs with 0s"
   ]
  },
  {
   "cell_type": "code",
   "execution_count": 30,
   "id": "731cdcf7",
   "metadata": {},
   "outputs": [
    {
     "data": {
      "text/html": [
       "<table class=\"dataframe\">\n",
       "<caption>A tibble: 5 × 5</caption>\n",
       "<thead>\n",
       "\t<tr><th scope=col>query_name</th><th scope=col>ScientificName</th><th scope=col>GCF_003478165.1</th><th scope=col>GCF_012271835.1</th><th scope=col>GCF_003459645.1</th></tr>\n",
       "\t<tr><th scope=col>&lt;chr&gt;</th><th scope=col>&lt;chr&gt;</th><th scope=col>&lt;dbl&gt;</th><th scope=col>&lt;dbl&gt;</th><th scope=col>&lt;dbl&gt;</th></tr>\n",
       "</thead>\n",
       "<tbody>\n",
       "\t<tr><td>DRR014176</td><td>human metagenome     </td><td>0.034210526</td><td>0.0215789474</td><td>0.020526316</td></tr>\n",
       "\t<tr><td>DRR025071</td><td>pig gut metagenome   </td><td>0.000000000</td><td>0.0000000000</td><td>0.000000000</td></tr>\n",
       "\t<tr><td>DRR033608</td><td>human oral metagenome</td><td>0.000000000</td><td>0.0000000000</td><td>0.000000000</td></tr>\n",
       "\t<tr><td>DRR042304</td><td>human gut metagenome </td><td>0.000000000</td><td>0.0004482295</td><td>0.007619901</td></tr>\n",
       "\t<tr><td>DRR042358</td><td>human gut metagenome </td><td>0.001295337</td><td>0.0012953368</td><td>0.000000000</td></tr>\n",
       "</tbody>\n",
       "</table>\n"
      ],
      "text/latex": [
       "A tibble: 5 × 5\n",
       "\\begin{tabular}{lllll}\n",
       " query\\_name & ScientificName & GCF\\_003478165.1 & GCF\\_012271835.1 & GCF\\_003459645.1\\\\\n",
       " <chr> & <chr> & <dbl> & <dbl> & <dbl>\\\\\n",
       "\\hline\n",
       "\t DRR014176 & human metagenome      & 0.034210526 & 0.0215789474 & 0.020526316\\\\\n",
       "\t DRR025071 & pig gut metagenome    & 0.000000000 & 0.0000000000 & 0.000000000\\\\\n",
       "\t DRR033608 & human oral metagenome & 0.000000000 & 0.0000000000 & 0.000000000\\\\\n",
       "\t DRR042304 & human gut metagenome  & 0.000000000 & 0.0004482295 & 0.007619901\\\\\n",
       "\t DRR042358 & human gut metagenome  & 0.001295337 & 0.0012953368 & 0.000000000\\\\\n",
       "\\end{tabular}\n"
      ],
      "text/markdown": [
       "\n",
       "A tibble: 5 × 5\n",
       "\n",
       "| query_name &lt;chr&gt; | ScientificName &lt;chr&gt; | GCF_003478165.1 &lt;dbl&gt; | GCF_012271835.1 &lt;dbl&gt; | GCF_003459645.1 &lt;dbl&gt; |\n",
       "|---|---|---|---|---|\n",
       "| DRR014176 | human metagenome      | 0.034210526 | 0.0215789474 | 0.020526316 |\n",
       "| DRR025071 | pig gut metagenome    | 0.000000000 | 0.0000000000 | 0.000000000 |\n",
       "| DRR033608 | human oral metagenome | 0.000000000 | 0.0000000000 | 0.000000000 |\n",
       "| DRR042304 | human gut metagenome  | 0.000000000 | 0.0004482295 | 0.007619901 |\n",
       "| DRR042358 | human gut metagenome  | 0.001295337 | 0.0012953368 | 0.000000000 |\n",
       "\n"
      ],
      "text/plain": [
       "  query_name ScientificName        GCF_003478165.1 GCF_012271835.1\n",
       "1 DRR014176  human metagenome      0.034210526     0.0215789474   \n",
       "2 DRR025071  pig gut metagenome    0.000000000     0.0000000000   \n",
       "3 DRR033608  human oral metagenome 0.000000000     0.0000000000   \n",
       "4 DRR042304  human gut metagenome  0.000000000     0.0004482295   \n",
       "5 DRR042358  human gut metagenome  0.001295337     0.0012953368   \n",
       "  GCF_003459645.1\n",
       "1 0.020526316    \n",
       "2 0.000000000    \n",
       "3 0.000000000    \n",
       "4 0.007619901    \n",
       "5 0.000000000    "
      ]
     },
     "metadata": {},
     "output_type": "display_data"
    },
    {
     "data": {
      "text/html": [
       "<style>\n",
       ".list-inline {list-style: none; margin:0; padding: 0}\n",
       ".list-inline>li {display: inline-block}\n",
       ".list-inline>li:not(:last-child)::after {content: \"\\00b7\"; padding: 0 .5ex}\n",
       "</style>\n",
       "<ol class=list-inline><li>8716</li><li>76381</li></ol>\n"
      ],
      "text/latex": [
       "\\begin{enumerate*}\n",
       "\\item 8716\n",
       "\\item 76381\n",
       "\\end{enumerate*}\n"
      ],
      "text/markdown": [
       "1. 8716\n",
       "2. 76381\n",
       "\n",
       "\n"
      ],
      "text/plain": [
       "[1]  8716 76381"
      ]
     },
     "metadata": {},
     "output_type": "display_data"
    }
   ],
   "source": [
    "gather_formatted[1:5, 1:5]\n",
    "dim(gather_formatted)"
   ]
  },
  {
   "cell_type": "code",
   "execution_count": 57,
   "id": "d2c05770",
   "metadata": {},
   "outputs": [],
   "source": [
    "# filtering on biomes was done before collapsing; make sure every biome has enough observations\n",
    "tmp <- gather_formatted %>%\n",
    "  group_by(ScientificName) %>% \n",
    "  tally() %>%\n",
    "  filter(n > 10) %>%\n",
    "  arrange(desc(n))"
   ]
  },
  {
   "cell_type": "markdown",
   "id": "b7acd90f",
   "metadata": {},
   "source": [
    "## Generate training and testing set"
   ]
  },
  {
   "cell_type": "code",
   "execution_count": 43,
   "id": "6f319458",
   "metadata": {},
   "outputs": [],
   "source": [
    "# filter to ScientificNames with at least 10 observations\n",
    "gather_formatted2 <- gather_formatted %>%\n",
    "  filter(ScientificName %in% tmp$ScientificName)\n",
    "\n",
    "biome <- gather_formatted2$ScientificName\n",
    "\n",
    "gather_formatted2 <- gather_formatted2 %>%\n",
    "  select(-ScientificName) %>%\n",
    "  column_to_rownames(\"query_name\")\n",
    "\n",
    "## semi-randomly create test set\n",
    "train_indx <- createDataPartition(biome, p = .7, list = FALSE, times = 1)\n",
    "\n",
    "train_df <- gather_formatted2[train_indx, ]\n",
    "test_df <-  gather_formatted2[-train_indx, ]\n",
    "\n",
    "# remove testdata from training data\n",
    "train_biome <- biome[train_indx]\n",
    "test_biome  <- biome[-train_indx]"
   ]
  },
  {
   "cell_type": "markdown",
   "id": "3e4b8f0c",
   "metadata": {},
   "source": [
    "## Run variable selection on training data"
   ]
  },
  {
   "cell_type": "markdown",
   "id": "c7c9791a",
   "metadata": {},
   "source": [
    "### Vita variable selection via pomona package wrappers \n",
    "\n",
    "Use functions to avoid package installation -- see `scripts/utils.R`"
   ]
  },
  {
   "cell_type": "code",
   "execution_count": 51,
   "id": "cf567489",
   "metadata": {},
   "outputs": [
    {
     "name": "stdout",
     "output_type": "stream",
     "text": [
      "Growing trees.. Progress: 0%. Estimated remaining time: 2 hours, 27 minutes, 36 seconds.\n",
      "Growing trees.. Progress: 1%. Estimated remaining time: 2 hours, 27 minutes, 4 seconds.\n",
      "Growing trees.. Progress: 1%. Estimated remaining time: 2 hours, 25 minutes, 21 seconds.\n",
      "Growing trees.. Progress: 1%. Estimated remaining time: 2 hours, 25 minutes, 6 seconds.\n",
      "Growing trees.. Progress: 2%. Estimated remaining time: 2 hours, 22 minutes, 15 seconds.\n",
      "Growing trees.. Progress: 2%. Estimated remaining time: 2 hours, 21 minutes, 6 seconds.\n",
      "Growing trees.. Progress: 3%. Estimated remaining time: 2 hours, 19 minutes, 59 seconds.\n",
      "Growing trees.. Progress: 3%. Estimated remaining time: 2 hours, 19 minutes, 27 seconds.\n",
      "Growing trees.. Progress: 3%. Estimated remaining time: 2 hours, 18 minutes, 32 seconds.\n",
      "Growing trees.. Progress: 4%. Estimated remaining time: 2 hours, 18 minutes, 7 seconds.\n",
      "Growing trees.. Progress: 4%. Estimated remaining time: 2 hours, 16 minutes, 36 seconds.\n",
      "Growing trees.. Progress: 5%. Estimated remaining time: 2 hours, 15 minutes, 32 seconds.\n",
      "Growing trees.. Progress: 5%. Estimated remaining time: 2 hours, 15 minutes, 12 seconds.\n",
      "Growing trees.. Progress: 5%. Estimated remaining time: 2 hours, 14 minutes, 47 seconds.\n",
      "Growing trees.. Progress: 6%. Estimated remaining time: 2 hours, 14 minutes, 7 seconds.\n",
      "Growing trees.. Progress: 6%. Estimated remaining time: 2 hours, 13 minutes, 57 seconds.\n",
      "Growing trees.. Progress: 6%. Estimated remaining time: 2 hours, 13 minutes, 2 seconds.\n",
      "Growing trees.. Progress: 7%. Estimated remaining time: 2 hours, 12 minutes, 52 seconds.\n",
      "Growing trees.. Progress: 7%. Estimated remaining time: 2 hours, 12 minutes, 24 seconds.\n",
      "Growing trees.. Progress: 8%. Estimated remaining time: 2 hours, 11 minutes, 33 seconds.\n",
      "Growing trees.. Progress: 8%. Estimated remaining time: 2 hours, 11 minutes, 7 seconds.\n",
      "Growing trees.. Progress: 8%. Estimated remaining time: 2 hours, 10 minutes, 0 seconds.\n",
      "Growing trees.. Progress: 9%. Estimated remaining time: 2 hours, 9 minutes, 34 seconds.\n",
      "Growing trees.. Progress: 9%. Estimated remaining time: 2 hours, 9 minutes, 8 seconds.\n",
      "Growing trees.. Progress: 9%. Estimated remaining time: 2 hours, 8 minutes, 41 seconds.\n",
      "Growing trees.. Progress: 10%. Estimated remaining time: 2 hours, 8 minutes, 33 seconds.\n",
      "Growing trees.. Progress: 10%. Estimated remaining time: 2 hours, 7 minutes, 47 seconds.\n",
      "Growing trees.. Progress: 11%. Estimated remaining time: 2 hours, 7 minutes, 18 seconds.\n",
      "Growing trees.. Progress: 11%. Estimated remaining time: 2 hours, 6 minutes, 42 seconds.\n",
      "Growing trees.. Progress: 11%. Estimated remaining time: 2 hours, 6 minutes, 6 seconds.\n",
      "Growing trees.. Progress: 12%. Estimated remaining time: 2 hours, 5 minutes, 23 seconds.\n",
      "Growing trees.. Progress: 12%. Estimated remaining time: 2 hours, 5 minutes, 2 seconds.\n",
      "Growing trees.. Progress: 12%. Estimated remaining time: 2 hours, 4 minutes, 34 seconds.\n",
      "Growing trees.. Progress: 13%. Estimated remaining time: 2 hours, 3 minutes, 38 seconds.\n",
      "Growing trees.. Progress: 13%. Estimated remaining time: 2 hours, 3 minutes, 4 seconds.\n",
      "Growing trees.. Progress: 14%. Estimated remaining time: 2 hours, 2 minutes, 42 seconds.\n",
      "Growing trees.. Progress: 14%. Estimated remaining time: 2 hours, 1 minute, 49 seconds.\n",
      "Growing trees.. Progress: 14%. Estimated remaining time: 2 hours, 1 minute, 33 seconds.\n",
      "Growing trees.. Progress: 15%. Estimated remaining time: 2 hours, 0 minutes, 53 seconds.\n",
      "Growing trees.. Progress: 15%. Estimated remaining time: 2 hours, 0 minutes, 2 seconds.\n",
      "Growing trees.. Progress: 15%. Estimated remaining time: 1 hour, 59 minutes, 34 seconds.\n",
      "Growing trees.. Progress: 16%. Estimated remaining time: 1 hour, 59 minutes, 17 seconds.\n",
      "Growing trees.. Progress: 16%. Estimated remaining time: 1 hour, 58 minutes, 43 seconds.\n",
      "Growing trees.. Progress: 17%. Estimated remaining time: 1 hour, 58 minutes, 9 seconds.\n",
      "Growing trees.. Progress: 17%. Estimated remaining time: 1 hour, 57 minutes, 35 seconds.\n",
      "Growing trees.. Progress: 17%. Estimated remaining time: 1 hour, 57 minutes, 2 seconds.\n",
      "Growing trees.. Progress: 18%. Estimated remaining time: 1 hour, 56 minutes, 38 seconds.\n",
      "Growing trees.. Progress: 18%. Estimated remaining time: 1 hour, 55 minutes, 36 seconds.\n",
      "Growing trees.. Progress: 19%. Estimated remaining time: 1 hour, 55 minutes, 2 seconds.\n",
      "Growing trees.. Progress: 19%. Estimated remaining time: 1 hour, 54 minutes, 25 seconds.\n",
      "Growing trees.. Progress: 19%. Estimated remaining time: 1 hour, 53 minutes, 57 seconds.\n",
      "Growing trees.. Progress: 20%. Estimated remaining time: 1 hour, 53 minutes, 20 seconds.\n",
      "Growing trees.. Progress: 20%. Estimated remaining time: 1 hour, 52 minutes, 51 seconds.\n",
      "Growing trees.. Progress: 20%. Estimated remaining time: 1 hour, 52 minutes, 14 seconds.\n",
      "Growing trees.. Progress: 21%. Estimated remaining time: 1 hour, 51 minutes, 38 seconds.\n",
      "Growing trees.. Progress: 21%. Estimated remaining time: 1 hour, 51 minutes, 5 seconds.\n",
      "Growing trees.. Progress: 22%. Estimated remaining time: 1 hour, 50 minutes, 33 seconds.\n",
      "Growing trees.. Progress: 22%. Estimated remaining time: 1 hour, 50 minutes, 4 seconds.\n",
      "Growing trees.. Progress: 22%. Estimated remaining time: 1 hour, 49 minutes, 23 seconds.\n",
      "Growing trees.. Progress: 23%. Estimated remaining time: 1 hour, 48 minutes, 47 seconds.\n",
      "Growing trees.. Progress: 23%. Estimated remaining time: 1 hour, 48 minutes, 14 seconds.\n",
      "Growing trees.. Progress: 24%. Estimated remaining time: 1 hour, 47 minutes, 38 seconds.\n",
      "Growing trees.. Progress: 24%. Estimated remaining time: 1 hour, 47 minutes, 3 seconds.\n",
      "Growing trees.. Progress: 24%. Estimated remaining time: 1 hour, 46 minutes, 37 seconds.\n",
      "Growing trees.. Progress: 25%. Estimated remaining time: 1 hour, 45 minutes, 58 seconds.\n",
      "Growing trees.. Progress: 25%. Estimated remaining time: 1 hour, 45 minutes, 26 seconds.\n",
      "Growing trees.. Progress: 25%. Estimated remaining time: 1 hour, 44 minutes, 54 seconds.\n",
      "Growing trees.. Progress: 26%. Estimated remaining time: 1 hour, 44 minutes, 15 seconds.\n",
      "Growing trees.. Progress: 26%. Estimated remaining time: 1 hour, 43 minutes, 43 seconds.\n",
      "Growing trees.. Progress: 27%. Estimated remaining time: 1 hour, 43 minutes, 4 seconds.\n",
      "Growing trees.. Progress: 27%. Estimated remaining time: 1 hour, 42 minutes, 29 seconds.\n",
      "Growing trees.. Progress: 27%. Estimated remaining time: 1 hour, 41 minutes, 57 seconds.\n",
      "Growing trees.. Progress: 28%. Estimated remaining time: 1 hour, 41 minutes, 23 seconds.\n",
      "Growing trees.. Progress: 28%. Estimated remaining time: 1 hour, 40 minutes, 45 seconds.\n",
      "Growing trees.. Progress: 28%. Estimated remaining time: 1 hour, 40 minutes, 11 seconds.\n",
      "Growing trees.. Progress: 29%. Estimated remaining time: 1 hour, 39 minutes, 44 seconds.\n",
      "Growing trees.. Progress: 29%. Estimated remaining time: 1 hour, 39 minutes, 12 seconds.\n",
      "Growing trees.. Progress: 30%. Estimated remaining time: 1 hour, 38 minutes, 40 seconds.\n",
      "Growing trees.. Progress: 30%. Estimated remaining time: 1 hour, 38 minutes, 8 seconds.\n",
      "Growing trees.. Progress: 30%. Estimated remaining time: 1 hour, 37 minutes, 27 seconds.\n",
      "Growing trees.. Progress: 31%. Estimated remaining time: 1 hour, 36 minutes, 48 seconds.\n",
      "Growing trees.. Progress: 31%. Estimated remaining time: 1 hour, 36 minutes, 21 seconds.\n",
      "Growing trees.. Progress: 32%. Estimated remaining time: 1 hour, 35 minutes, 50 seconds.\n",
      "Growing trees.. Progress: 32%. Estimated remaining time: 1 hour, 35 minutes, 12 seconds.\n",
      "Growing trees.. Progress: 32%. Estimated remaining time: 1 hour, 34 minutes, 43 seconds.\n",
      "Growing trees.. Progress: 33%. Estimated remaining time: 1 hour, 34 minutes, 16 seconds.\n",
      "Growing trees.. Progress: 33%. Estimated remaining time: 1 hour, 33 minutes, 47 seconds.\n",
      "Growing trees.. Progress: 33%. Estimated remaining time: 1 hour, 33 minutes, 16 seconds.\n",
      "Growing trees.. Progress: 34%. Estimated remaining time: 1 hour, 32 minutes, 39 seconds.\n",
      "Growing trees.. Progress: 34%. Estimated remaining time: 1 hour, 32 minutes, 9 seconds.\n",
      "Growing trees.. Progress: 35%. Estimated remaining time: 1 hour, 31 minutes, 35 seconds.\n",
      "Growing trees.. Progress: 35%. Estimated remaining time: 1 hour, 30 minutes, 57 seconds.\n",
      "Growing trees.. Progress: 35%. Estimated remaining time: 1 hour, 30 minutes, 30 seconds.\n",
      "Growing trees.. Progress: 36%. Estimated remaining time: 1 hour, 29 minutes, 55 seconds.\n",
      "Growing trees.. Progress: 36%. Estimated remaining time: 1 hour, 29 minutes, 21 seconds.\n",
      "Growing trees.. Progress: 37%. Estimated remaining time: 1 hour, 28 minutes, 45 seconds.\n",
      "Growing trees.. Progress: 37%. Estimated remaining time: 1 hour, 28 minutes, 18 seconds.\n",
      "Growing trees.. Progress: 37%. Estimated remaining time: 1 hour, 27 minutes, 40 seconds.\n",
      "Growing trees.. Progress: 38%. Estimated remaining time: 1 hour, 27 minutes, 9 seconds.\n",
      "Growing trees.. Progress: 38%. Estimated remaining time: 1 hour, 26 minutes, 34 seconds.\n",
      "Growing trees.. Progress: 38%. Estimated remaining time: 1 hour, 26 minutes, 5 seconds.\n",
      "Growing trees.. Progress: 39%. Estimated remaining time: 1 hour, 25 minutes, 33 seconds.\n",
      "Growing trees.. Progress: 39%. Estimated remaining time: 1 hour, 24 minutes, 57 seconds.\n",
      "Growing trees.. Progress: 40%. Estimated remaining time: 1 hour, 24 minutes, 30 seconds.\n",
      "Growing trees.. Progress: 40%. Estimated remaining time: 1 hour, 23 minutes, 58 seconds.\n",
      "Growing trees.. Progress: 40%. Estimated remaining time: 1 hour, 23 minutes, 21 seconds.\n",
      "Growing trees.. Progress: 41%. Estimated remaining time: 1 hour, 22 minutes, 52 seconds.\n",
      "Growing trees.. Progress: 41%. Estimated remaining time: 1 hour, 22 minutes, 16 seconds.\n",
      "Growing trees.. Progress: 42%. Estimated remaining time: 1 hour, 21 minutes, 44 seconds.\n",
      "Growing trees.. Progress: 42%. Estimated remaining time: 1 hour, 21 minutes, 10 seconds.\n",
      "Growing trees.. Progress: 42%. Estimated remaining time: 1 hour, 20 minutes, 39 seconds.\n",
      "Growing trees.. Progress: 43%. Estimated remaining time: 1 hour, 20 minutes, 8 seconds.\n",
      "Growing trees.. Progress: 43%. Estimated remaining time: 1 hour, 19 minutes, 39 seconds.\n",
      "Growing trees.. Progress: 43%. Estimated remaining time: 1 hour, 19 minutes, 3 seconds.\n",
      "Growing trees.. Progress: 44%. Estimated remaining time: 1 hour, 18 minutes, 31 seconds.\n",
      "Growing trees.. Progress: 44%. Estimated remaining time: 1 hour, 17 minutes, 58 seconds.\n",
      "Growing trees.. Progress: 45%. Estimated remaining time: 1 hour, 17 minutes, 29 seconds.\n",
      "Growing trees.. Progress: 45%. Estimated remaining time: 1 hour, 17 minutes, 0 seconds.\n",
      "Growing trees.. Progress: 45%. Estimated remaining time: 1 hour, 16 minutes, 21 seconds.\n",
      "Growing trees.. Progress: 46%. Estimated remaining time: 1 hour, 15 minutes, 52 seconds.\n",
      "Growing trees.. Progress: 46%. Estimated remaining time: 1 hour, 15 minutes, 13 seconds.\n",
      "Growing trees.. Progress: 47%. Estimated remaining time: 1 hour, 14 minutes, 38 seconds.\n",
      "Growing trees.. Progress: 47%. Estimated remaining time: 1 hour, 14 minutes, 3 seconds.\n",
      "Growing trees.. Progress: 47%. Estimated remaining time: 1 hour, 13 minutes, 27 seconds.\n",
      "Growing trees.. Progress: 48%. Estimated remaining time: 1 hour, 12 minutes, 55 seconds.\n",
      "Growing trees.. Progress: 48%. Estimated remaining time: 1 hour, 12 minutes, 26 seconds.\n",
      "Growing trees.. Progress: 49%. Estimated remaining time: 1 hour, 11 minutes, 51 seconds.\n",
      "Growing trees.. Progress: 49%. Estimated remaining time: 1 hour, 11 minutes, 18 seconds.\n",
      "Growing trees.. Progress: 49%. Estimated remaining time: 1 hour, 10 minutes, 45 seconds.\n",
      "Growing trees.. Progress: 50%. Estimated remaining time: 1 hour, 10 minutes, 14 seconds.\n",
      "Growing trees.. Progress: 50%. Estimated remaining time: 1 hour, 9 minutes, 43 seconds.\n",
      "Growing trees.. Progress: 51%. Estimated remaining time: 1 hour, 9 minutes, 6 seconds.\n",
      "Growing trees.. Progress: 51%. Estimated remaining time: 1 hour, 8 minutes, 37 seconds.\n",
      "Growing trees.. Progress: 51%. Estimated remaining time: 1 hour, 8 minutes, 3 seconds.\n",
      "Growing trees.. Progress: 52%. Estimated remaining time: 1 hour, 7 minutes, 31 seconds.\n",
      "Growing trees.. Progress: 52%. Estimated remaining time: 1 hour, 7 minutes, 2 seconds.\n",
      "Growing trees.. Progress: 52%. Estimated remaining time: 1 hour, 6 minutes, 31 seconds.\n",
      "Growing trees.. Progress: 53%. Estimated remaining time: 1 hour, 5 minutes, 55 seconds.\n",
      "Growing trees.. Progress: 53%. Estimated remaining time: 1 hour, 5 minutes, 19 seconds.\n",
      "Growing trees.. Progress: 54%. Estimated remaining time: 1 hour, 4 minutes, 50 seconds.\n",
      "Growing trees.. Progress: 54%. Estimated remaining time: 1 hour, 4 minutes, 23 seconds.\n",
      "Growing trees.. Progress: 54%. Estimated remaining time: 1 hour, 3 minutes, 54 seconds.\n",
      "Growing trees.. Progress: 55%. Estimated remaining time: 1 hour, 3 minutes, 25 seconds.\n",
      "Growing trees.. Progress: 55%. Estimated remaining time: 1 hour, 2 minutes, 52 seconds.\n",
      "Growing trees.. Progress: 55%. Estimated remaining time: 1 hour, 2 minutes, 17 seconds.\n",
      "Growing trees.. Progress: 56%. Estimated remaining time: 1 hour, 1 minute, 48 seconds.\n",
      "Growing trees.. Progress: 56%. Estimated remaining time: 1 hour, 1 minute, 18 seconds.\n",
      "Growing trees.. Progress: 57%. Estimated remaining time: 1 hour, 0 minutes, 46 seconds.\n",
      "Growing trees.. Progress: 57%. Estimated remaining time: 1 hour, 0 minutes, 17 seconds.\n",
      "Growing trees.. Progress: 57%. Estimated remaining time: 59 minutes, 40 seconds.\n",
      "Growing trees.. Progress: 58%. Estimated remaining time: 59 minutes, 6 seconds.\n",
      "Growing trees.. Progress: 58%. Estimated remaining time: 58 minutes, 33 seconds.\n",
      "Growing trees.. Progress: 59%. Estimated remaining time: 58 minutes, 1 seconds.\n",
      "Growing trees.. Progress: 59%. Estimated remaining time: 57 minutes, 29 seconds.\n",
      "Growing trees.. Progress: 59%. Estimated remaining time: 56 minutes, 57 seconds.\n",
      "Growing trees.. Progress: 60%. Estimated remaining time: 56 minutes, 25 seconds.\n",
      "Growing trees.. Progress: 60%. Estimated remaining time: 55 minutes, 53 seconds.\n",
      "Growing trees.. Progress: 60%. Estimated remaining time: 55 minutes, 20 seconds.\n",
      "Growing trees.. Progress: 61%. Estimated remaining time: 54 minutes, 50 seconds.\n",
      "Growing trees.. Progress: 61%. Estimated remaining time: 54 minutes, 19 seconds.\n",
      "Growing trees.. Progress: 62%. Estimated remaining time: 53 minutes, 47 seconds.\n",
      "Growing trees.. Progress: 62%. Estimated remaining time: 53 minutes, 15 seconds.\n",
      "Growing trees.. Progress: 62%. Estimated remaining time: 52 minutes, 45 seconds.\n",
      "Growing trees.. Progress: 63%. Estimated remaining time: 52 minutes, 16 seconds.\n",
      "Growing trees.. Progress: 63%. Estimated remaining time: 51 minutes, 45 seconds.\n",
      "Growing trees.. Progress: 63%. Estimated remaining time: 51 minutes, 8 seconds.\n",
      "Growing trees.. Progress: 64%. Estimated remaining time: 50 minutes, 36 seconds.\n",
      "Growing trees.. Progress: 64%. Estimated remaining time: 50 minutes, 4 seconds.\n",
      "Growing trees.. Progress: 65%. Estimated remaining time: 49 minutes, 29 seconds.\n",
      "Growing trees.. Progress: 65%. Estimated remaining time: 48 minutes, 59 seconds.\n",
      "Growing trees.. Progress: 65%. Estimated remaining time: 48 minutes, 31 seconds.\n",
      "Growing trees.. Progress: 66%. Estimated remaining time: 47 minutes, 59 seconds.\n",
      "Growing trees.. Progress: 66%. Estimated remaining time: 47 minutes, 25 seconds.\n",
      "Growing trees.. Progress: 67%. Estimated remaining time: 46 minutes, 53 seconds.\n",
      "Growing trees.. Progress: 67%. Estimated remaining time: 46 minutes, 21 seconds.\n",
      "Growing trees.. Progress: 67%. Estimated remaining time: 45 minutes, 51 seconds.\n",
      "Growing trees.. Progress: 68%. Estimated remaining time: 45 minutes, 17 seconds.\n",
      "Growing trees.. Progress: 68%. Estimated remaining time: 44 minutes, 44 seconds.\n",
      "Growing trees.. Progress: 68%. Estimated remaining time: 44 minutes, 14 seconds.\n",
      "Growing trees.. Progress: 69%. Estimated remaining time: 43 minutes, 37 seconds.\n",
      "Growing trees.. Progress: 69%. Estimated remaining time: 43 minutes, 4 seconds.\n",
      "Growing trees.. Progress: 70%. Estimated remaining time: 42 minutes, 30 seconds.\n",
      "Growing trees.. Progress: 70%. Estimated remaining time: 41 minutes, 58 seconds.\n",
      "Growing trees.. Progress: 70%. Estimated remaining time: 41 minutes, 26 seconds.\n",
      "Growing trees.. Progress: 71%. Estimated remaining time: 40 minutes, 56 seconds.\n",
      "Growing trees.. Progress: 71%. Estimated remaining time: 40 minutes, 25 seconds.\n",
      "Growing trees.. Progress: 72%. Estimated remaining time: 39 minutes, 50 seconds.\n",
      "Growing trees.. Progress: 72%. Estimated remaining time: 39 minutes, 18 seconds.\n",
      "Growing trees.. Progress: 72%. Estimated remaining time: 38 minutes, 46 seconds.\n",
      "Growing trees.. Progress: 73%. Estimated remaining time: 38 minutes, 14 seconds.\n",
      "Growing trees.. Progress: 73%. Estimated remaining time: 37 minutes, 45 seconds.\n",
      "Growing trees.. Progress: 73%. Estimated remaining time: 37 minutes, 11 seconds.\n",
      "Growing trees.. Progress: 74%. Estimated remaining time: 36 minutes, 40 seconds.\n",
      "Growing trees.. Progress: 74%. Estimated remaining time: 36 minutes, 6 seconds.\n",
      "Growing trees.. Progress: 75%. Estimated remaining time: 35 minutes, 32 seconds.\n",
      "Growing trees.. Progress: 75%. Estimated remaining time: 34 minutes, 59 seconds.\n",
      "Growing trees.. Progress: 75%. Estimated remaining time: 34 minutes, 28 seconds.\n",
      "Growing trees.. Progress: 76%. Estimated remaining time: 33 minutes, 54 seconds.\n",
      "Growing trees.. Progress: 76%. Estimated remaining time: 33 minutes, 20 seconds.\n",
      "Growing trees.. Progress: 77%. Estimated remaining time: 32 minutes, 50 seconds.\n",
      "Growing trees.. Progress: 77%. Estimated remaining time: 32 minutes, 19 seconds.\n",
      "Growing trees.. Progress: 77%. Estimated remaining time: 31 minutes, 45 seconds.\n",
      "Growing trees.. Progress: 78%. Estimated remaining time: 31 minutes, 13 seconds.\n",
      "Growing trees.. Progress: 78%. Estimated remaining time: 30 minutes, 41 seconds.\n",
      "Growing trees.. Progress: 78%. Estimated remaining time: 30 minutes, 7 seconds.\n",
      "Growing trees.. Progress: 79%. Estimated remaining time: 29 minutes, 33 seconds.\n",
      "Growing trees.. Progress: 79%. Estimated remaining time: 29 minutes, 2 seconds.\n",
      "Growing trees.. Progress: 80%. Estimated remaining time: 28 minutes, 32 seconds.\n",
      "Growing trees.. Progress: 80%. Estimated remaining time: 27 minutes, 56 seconds.\n",
      "Growing trees.. Progress: 80%. Estimated remaining time: 27 minutes, 22 seconds.\n",
      "Growing trees.. Progress: 81%. Estimated remaining time: 26 minutes, 46 seconds.\n",
      "Growing trees.. Progress: 81%. Estimated remaining time: 26 minutes, 14 seconds.\n",
      "Growing trees.. Progress: 82%. Estimated remaining time: 25 minutes, 43 seconds.\n",
      "Growing trees.. Progress: 82%. Estimated remaining time: 25 minutes, 9 seconds.\n",
      "Growing trees.. Progress: 82%. Estimated remaining time: 24 minutes, 37 seconds.\n",
      "Growing trees.. Progress: 83%. Estimated remaining time: 24 minutes, 7 seconds.\n",
      "Growing trees.. Progress: 83%. Estimated remaining time: 23 minutes, 35 seconds.\n",
      "Growing trees.. Progress: 84%. Estimated remaining time: 23 minutes, 2 seconds.\n",
      "Growing trees.. Progress: 84%. Estimated remaining time: 22 minutes, 26 seconds.\n",
      "Growing trees.. Progress: 84%. Estimated remaining time: 21 minutes, 52 seconds.\n",
      "Growing trees.. Progress: 85%. Estimated remaining time: 21 minutes, 20 seconds.\n",
      "Growing trees.. Progress: 85%. Estimated remaining time: 20 minutes, 49 seconds.\n",
      "Growing trees.. Progress: 86%. Estimated remaining time: 20 minutes, 15 seconds.\n",
      "Growing trees.. Progress: 86%. Estimated remaining time: 19 minutes, 43 seconds.\n",
      "Growing trees.. Progress: 86%. Estimated remaining time: 19 minutes, 13 seconds.\n",
      "Growing trees.. Progress: 87%. Estimated remaining time: 18 minutes, 42 seconds.\n",
      "Growing trees.. Progress: 87%. Estimated remaining time: 18 minutes, 10 seconds.\n",
      "Growing trees.. Progress: 87%. Estimated remaining time: 17 minutes, 36 seconds.\n",
      "Growing trees.. Progress: 88%. Estimated remaining time: 17 minutes, 4 seconds.\n",
      "Growing trees.. Progress: 88%. Estimated remaining time: 16 minutes, 30 seconds.\n",
      "Growing trees.. Progress: 89%. Estimated remaining time: 16 minutes, 0 seconds.\n",
      "Growing trees.. Progress: 89%. Estimated remaining time: 15 minutes, 29 seconds.\n",
      "Growing trees.. Progress: 89%. Estimated remaining time: 14 minutes, 55 seconds.\n",
      "Growing trees.. Progress: 90%. Estimated remaining time: 14 minutes, 21 seconds.\n",
      "Growing trees.. Progress: 90%. Estimated remaining time: 13 minutes, 48 seconds.\n",
      "Growing trees.. Progress: 91%. Estimated remaining time: 13 minutes, 16 seconds.\n",
      "Growing trees.. Progress: 91%. Estimated remaining time: 12 minutes, 42 seconds.\n",
      "Growing trees.. Progress: 91%. Estimated remaining time: 12 minutes, 12 seconds.\n",
      "Growing trees.. Progress: 92%. Estimated remaining time: 11 minutes, 40 seconds.\n",
      "Growing trees.. Progress: 92%. Estimated remaining time: 11 minutes, 7 seconds.\n",
      "Growing trees.. Progress: 92%. Estimated remaining time: 10 minutes, 37 seconds.\n",
      "Growing trees.. Progress: 93%. Estimated remaining time: 10 minutes, 8 seconds.\n",
      "Growing trees.. Progress: 93%. Estimated remaining time: 9 minutes, 36 seconds.\n",
      "Growing trees.. Progress: 94%. Estimated remaining time: 9 minutes, 5 seconds.\n",
      "Growing trees.. Progress: 94%. Estimated remaining time: 8 minutes, 34 seconds.\n",
      "Growing trees.. Progress: 94%. Estimated remaining time: 8 minutes, 3 seconds.\n",
      "Growing trees.. Progress: 95%. Estimated remaining time: 7 minutes, 29 seconds.\n",
      "Growing trees.. Progress: 95%. Estimated remaining time: 6 minutes, 55 seconds.\n",
      "Growing trees.. Progress: 95%. Estimated remaining time: 6 minutes, 20 seconds.\n",
      "Growing trees.. Progress: 96%. Estimated remaining time: 5 minutes, 48 seconds.\n",
      "Growing trees.. Progress: 96%. Estimated remaining time: 5 minutes, 16 seconds.\n",
      "Growing trees.. Progress: 97%. Estimated remaining time: 4 minutes, 45 seconds.\n",
      "Growing trees.. Progress: 97%. Estimated remaining time: 4 minutes, 13 seconds.\n",
      "Growing trees.. Progress: 97%. Estimated remaining time: 3 minutes, 41 seconds.\n",
      "Growing trees.. Progress: 98%. Estimated remaining time: 3 minutes, 7 seconds.\n",
      "Growing trees.. Progress: 98%. Estimated remaining time: 2 minutes, 35 seconds.\n",
      "Growing trees.. Progress: 99%. Estimated remaining time: 2 minutes, 2 seconds.\n",
      "Growing trees.. Progress: 99%. Estimated remaining time: 1 minute, 32 seconds.\n",
      "Growing trees.. Progress: 99%. Estimated remaining time: 1 minute, 0 seconds.\n",
      "Growing trees.. Progress: 100%. Estimated remaining time: 30 seconds.\n",
      "Growing trees.. Progress: 100%. Estimated remaining time: 18 seconds.\n",
      "Growing trees.. Progress: 100%. Estimated remaining time: 6 seconds.\n",
      "Growing trees.. Progress: 0%. Estimated remaining time: 2 hours, 12 minutes, 48 seconds.\n",
      "Growing trees.. Progress: 1%. Estimated remaining time: 2 hours, 5 minutes, 55 seconds.\n",
      "Growing trees.. Progress: 1%. Estimated remaining time: 2 hours, 8 minutes, 11 seconds.\n",
      "Growing trees.. Progress: 2%. Estimated remaining time: 2 hours, 7 minutes, 56 seconds.\n",
      "Growing trees.. Progress: 2%. Estimated remaining time: 2 hours, 7 minutes, 34 seconds.\n",
      "Growing trees.. Progress: 3%. Estimated remaining time: 2 hours, 3 minutes, 47 seconds.\n",
      "Growing trees.. Progress: 3%. Estimated remaining time: 2 hours, 4 minutes, 7 seconds.\n",
      "Growing trees.. Progress: 3%. Estimated remaining time: 2 hours, 3 minutes, 11 seconds.\n",
      "Growing trees.. Progress: 4%. Estimated remaining time: 2 hours, 2 minutes, 11 seconds.\n",
      "Growing trees.. Progress: 4%. Estimated remaining time: 2 hours, 1 minute, 25 seconds.\n",
      "Growing trees.. Progress: 5%. Estimated remaining time: 2 hours, 0 minutes, 34 seconds.\n",
      "Growing trees.. Progress: 5%. Estimated remaining time: 1 hour, 59 minutes, 53 seconds.\n",
      "Growing trees.. Progress: 6%. Estimated remaining time: 1 hour, 59 minutes, 14 seconds.\n",
      "Growing trees.. Progress: 6%. Estimated remaining time: 1 hour, 58 minutes, 20 seconds.\n",
      "Growing trees.. Progress: 6%. Estimated remaining time: 1 hour, 57 minutes, 58 seconds.\n",
      "Growing trees.. Progress: 7%. Estimated remaining time: 1 hour, 57 minutes, 29 seconds.\n",
      "Growing trees.. Progress: 7%. Estimated remaining time: 1 hour, 57 minutes, 13 seconds.\n",
      "Growing trees.. Progress: 8%. Estimated remaining time: 1 hour, 56 minutes, 31 seconds.\n",
      "Growing trees.. Progress: 8%. Estimated remaining time: 1 hour, 56 minutes, 13 seconds.\n",
      "Growing trees.. Progress: 9%. Estimated remaining time: 1 hour, 55 minutes, 32 seconds.\n",
      "Growing trees.. Progress: 9%. Estimated remaining time: 1 hour, 54 minutes, 52 seconds.\n",
      "Growing trees.. Progress: 9%. Estimated remaining time: 1 hour, 54 minutes, 38 seconds.\n",
      "Growing trees.. Progress: 10%. Estimated remaining time: 1 hour, 54 minutes, 8 seconds.\n",
      "Growing trees.. Progress: 10%. Estimated remaining time: 1 hour, 53 minutes, 46 seconds.\n",
      "Growing trees.. Progress: 11%. Estimated remaining time: 1 hour, 53 minutes, 6 seconds.\n",
      "Growing trees.. Progress: 11%. Estimated remaining time: 1 hour, 52 minutes, 38 seconds.\n",
      "Growing trees.. Progress: 12%. Estimated remaining time: 1 hour, 51 minutes, 42 seconds.\n",
      "Growing trees.. Progress: 12%. Estimated remaining time: 1 hour, 51 minutes, 25 seconds.\n",
      "Growing trees.. Progress: 12%. Estimated remaining time: 1 hour, 50 minutes, 59 seconds.\n",
      "Growing trees.. Progress: 13%. Estimated remaining time: 1 hour, 50 minutes, 16 seconds.\n",
      "Growing trees.. Progress: 13%. Estimated remaining time: 1 hour, 49 minutes, 45 seconds.\n",
      "Growing trees.. Progress: 14%. Estimated remaining time: 1 hour, 49 minutes, 14 seconds.\n",
      "Growing trees.. Progress: 14%. Estimated remaining time: 1 hour, 48 minutes, 49 seconds.\n",
      "Growing trees.. Progress: 14%. Estimated remaining time: 1 hour, 48 minutes, 2 seconds.\n",
      "Growing trees.. Progress: 15%. Estimated remaining time: 1 hour, 47 minutes, 47 seconds.\n",
      "Growing trees.. Progress: 15%. Estimated remaining time: 1 hour, 47 minutes, 16 seconds.\n",
      "Growing trees.. Progress: 16%. Estimated remaining time: 1 hour, 46 minutes, 34 seconds.\n",
      "Growing trees.. Progress: 16%. Estimated remaining time: 1 hour, 45 minutes, 54 seconds.\n",
      "Growing trees.. Progress: 17%. Estimated remaining time: 1 hour, 45 minutes, 10 seconds.\n",
      "Growing trees.. Progress: 17%. Estimated remaining time: 1 hour, 44 minutes, 21 seconds.\n",
      "Growing trees.. Progress: 17%. Estimated remaining time: 1 hour, 43 minutes, 46 seconds.\n",
      "Growing trees.. Progress: 18%. Estimated remaining time: 1 hour, 43 minutes, 33 seconds.\n",
      "Growing trees.. Progress: 18%. Estimated remaining time: 1 hour, 43 minutes, 3 seconds.\n",
      "Growing trees.. Progress: 19%. Estimated remaining time: 1 hour, 42 minutes, 40 seconds.\n",
      "Growing trees.. Progress: 19%. Estimated remaining time: 1 hour, 42 minutes, 1 seconds.\n",
      "Growing trees.. Progress: 20%. Estimated remaining time: 1 hour, 41 minutes, 38 seconds.\n",
      "Growing trees.. Progress: 20%. Estimated remaining time: 1 hour, 41 minutes, 3 seconds.\n",
      "Growing trees.. Progress: 20%. Estimated remaining time: 1 hour, 40 minutes, 36 seconds.\n",
      "Growing trees.. Progress: 21%. Estimated remaining time: 1 hour, 39 minutes, 54 seconds.\n",
      "Growing trees.. Progress: 21%. Estimated remaining time: 1 hour, 39 minutes, 23 seconds.\n",
      "Growing trees.. Progress: 22%. Estimated remaining time: 1 hour, 38 minutes, 52 seconds.\n",
      "Growing trees.. Progress: 22%. Estimated remaining time: 1 hour, 38 minutes, 10 seconds.\n",
      "Growing trees.. Progress: 23%. Estimated remaining time: 1 hour, 37 minutes, 36 seconds.\n",
      "Growing trees.. Progress: 23%. Estimated remaining time: 1 hour, 37 minutes, 1 seconds.\n",
      "Growing trees.. Progress: 23%. Estimated remaining time: 1 hour, 36 minutes, 18 seconds.\n",
      "Growing trees.. Progress: 24%. Estimated remaining time: 1 hour, 35 minutes, 47 seconds.\n",
      "Growing trees.. Progress: 24%. Estimated remaining time: 1 hour, 35 minutes, 7 seconds.\n",
      "Growing trees.. Progress: 25%. Estimated remaining time: 1 hour, 34 minutes, 30 seconds.\n",
      "Growing trees.. Progress: 25%. Estimated remaining time: 1 hour, 33 minutes, 56 seconds.\n",
      "Growing trees.. Progress: 26%. Estimated remaining time: 1 hour, 33 minutes, 17 seconds.\n",
      "Growing trees.. Progress: 26%. Estimated remaining time: 1 hour, 32 minutes, 46 seconds.\n",
      "Growing trees.. Progress: 27%. Estimated remaining time: 1 hour, 32 minutes, 15 seconds.\n",
      "Growing trees.. Progress: 27%. Estimated remaining time: 1 hour, 31 minutes, 42 seconds.\n",
      "Growing trees.. Progress: 27%. Estimated remaining time: 1 hour, 31 minutes, 8 seconds.\n",
      "Growing trees.. Progress: 28%. Estimated remaining time: 1 hour, 30 minutes, 35 seconds.\n",
      "Growing trees.. Progress: 28%. Estimated remaining time: 1 hour, 30 minutes, 1 seconds.\n",
      "Growing trees.. Progress: 29%. Estimated remaining time: 1 hour, 29 minutes, 25 seconds.\n",
      "Growing trees.. Progress: 29%. Estimated remaining time: 1 hour, 28 minutes, 57 seconds.\n",
      "Growing trees.. Progress: 30%. Estimated remaining time: 1 hour, 28 minutes, 29 seconds.\n",
      "Growing trees.. Progress: 30%. Estimated remaining time: 1 hour, 27 minutes, 58 seconds.\n",
      "Growing trees.. Progress: 30%. Estimated remaining time: 1 hour, 27 minutes, 30 seconds.\n",
      "Growing trees.. Progress: 31%. Estimated remaining time: 1 hour, 26 minutes, 59 seconds.\n",
      "Growing trees.. Progress: 31%. Estimated remaining time: 1 hour, 26 minutes, 21 seconds.\n",
      "Growing trees.. Progress: 32%. Estimated remaining time: 1 hour, 25 minutes, 46 seconds.\n",
      "Growing trees.. Progress: 32%. Estimated remaining time: 1 hour, 25 minutes, 16 seconds.\n",
      "Growing trees.. Progress: 33%. Estimated remaining time: 1 hour, 24 minutes, 43 seconds.\n",
      "Growing trees.. Progress: 33%. Estimated remaining time: 1 hour, 24 minutes, 9 seconds.\n",
      "Growing trees.. Progress: 33%. Estimated remaining time: 1 hour, 23 minutes, 32 seconds.\n",
      "Growing trees.. Progress: 34%. Estimated remaining time: 1 hour, 22 minutes, 59 seconds.\n",
      "Growing trees.. Progress: 34%. Estimated remaining time: 1 hour, 22 minutes, 36 seconds.\n",
      "Growing trees.. Progress: 35%. Estimated remaining time: 1 hour, 22 minutes, 7 seconds.\n",
      "Growing trees.. Progress: 35%. Estimated remaining time: 1 hour, 21 minutes, 38 seconds.\n",
      "Growing trees.. Progress: 36%. Estimated remaining time: 1 hour, 21 minutes, 1 seconds.\n",
      "Growing trees.. Progress: 36%. Estimated remaining time: 1 hour, 20 minutes, 27 seconds.\n",
      "Growing trees.. Progress: 36%. Estimated remaining time: 1 hour, 19 minutes, 52 seconds.\n",
      "Growing trees.. Progress: 37%. Estimated remaining time: 1 hour, 19 minutes, 16 seconds.\n",
      "Growing trees.. Progress: 37%. Estimated remaining time: 1 hour, 18 minutes, 47 seconds.\n",
      "Growing trees.. Progress: 38%. Estimated remaining time: 1 hour, 18 minutes, 14 seconds.\n",
      "Growing trees.. Progress: 38%. Estimated remaining time: 1 hour, 17 minutes, 39 seconds.\n",
      "Growing trees.. Progress: 39%. Estimated remaining time: 1 hour, 17 minutes, 7 seconds.\n",
      "Growing trees.. Progress: 39%. Estimated remaining time: 1 hour, 16 minutes, 34 seconds.\n",
      "Growing trees.. Progress: 39%. Estimated remaining time: 1 hour, 15 minutes, 59 seconds.\n",
      "Growing trees.. Progress: 40%. Estimated remaining time: 1 hour, 15 minutes, 23 seconds.\n",
      "Growing trees.. Progress: 40%. Estimated remaining time: 1 hour, 14 minutes, 53 seconds.\n",
      "Growing trees.. Progress: 41%. Estimated remaining time: 1 hour, 14 minutes, 21 seconds.\n",
      "Growing trees.. Progress: 41%. Estimated remaining time: 1 hour, 13 minutes, 53 seconds.\n",
      "Growing trees.. Progress: 42%. Estimated remaining time: 1 hour, 13 minutes, 13 seconds.\n",
      "Growing trees.. Progress: 42%. Estimated remaining time: 1 hour, 12 minutes, 38 seconds.\n",
      "Growing trees.. Progress: 42%. Estimated remaining time: 1 hour, 12 minutes, 8 seconds.\n",
      "Growing trees.. Progress: 43%. Estimated remaining time: 1 hour, 11 minutes, 36 seconds.\n",
      "Growing trees.. Progress: 43%. Estimated remaining time: 1 hour, 11 minutes, 7 seconds.\n",
      "Growing trees.. Progress: 44%. Estimated remaining time: 1 hour, 10 minutes, 33 seconds.\n",
      "Growing trees.. Progress: 44%. Estimated remaining time: 1 hour, 9 minutes, 59 seconds.\n",
      "Growing trees.. Progress: 45%. Estimated remaining time: 1 hour, 9 minutes, 19 seconds.\n",
      "Growing trees.. Progress: 45%. Estimated remaining time: 1 hour, 8 minutes, 45 seconds.\n",
      "Growing trees.. Progress: 46%. Estimated remaining time: 1 hour, 8 minutes, 15 seconds.\n",
      "Growing trees.. Progress: 46%. Estimated remaining time: 1 hour, 7 minutes, 44 seconds.\n",
      "Growing trees.. Progress: 46%. Estimated remaining time: 1 hour, 7 minutes, 13 seconds.\n",
      "Growing trees.. Progress: 47%. Estimated remaining time: 1 hour, 6 minutes, 39 seconds.\n",
      "Growing trees.. Progress: 47%. Estimated remaining time: 1 hour, 6 minutes, 6 seconds.\n",
      "Growing trees.. Progress: 48%. Estimated remaining time: 1 hour, 5 minutes, 32 seconds.\n",
      "Growing trees.. Progress: 48%. Estimated remaining time: 1 hour, 5 minutes, 0 seconds.\n",
      "Growing trees.. Progress: 49%. Estimated remaining time: 1 hour, 4 minutes, 26 seconds.\n",
      "Growing trees.. Progress: 49%. Estimated remaining time: 1 hour, 4 minutes, 1 seconds.\n",
      "Growing trees.. Progress: 49%. Estimated remaining time: 1 hour, 3 minutes, 29 seconds.\n",
      "Growing trees.. Progress: 50%. Estimated remaining time: 1 hour, 2 minutes, 55 seconds.\n",
      "Growing trees.. Progress: 50%. Estimated remaining time: 1 hour, 2 minutes, 22 seconds.\n",
      "Growing trees.. Progress: 51%. Estimated remaining time: 1 hour, 1 minute, 49 seconds.\n",
      "Growing trees.. Progress: 51%. Estimated remaining time: 1 hour, 1 minute, 18 seconds.\n",
      "Growing trees.. Progress: 51%. Estimated remaining time: 1 hour, 0 minutes, 47 seconds.\n",
      "Growing trees.. Progress: 52%. Estimated remaining time: 1 hour, 0 minutes, 13 seconds.\n",
      "Growing trees.. Progress: 52%. Estimated remaining time: 59 minutes, 44 seconds.\n",
      "Growing trees.. Progress: 53%. Estimated remaining time: 59 minutes, 12 seconds.\n",
      "Growing trees.. Progress: 53%. Estimated remaining time: 58 minutes, 38 seconds.\n",
      "Growing trees.. Progress: 54%. Estimated remaining time: 58 minutes, 4 seconds.\n",
      "Growing trees.. Progress: 54%. Estimated remaining time: 57 minutes, 32 seconds.\n",
      "Growing trees.. Progress: 55%. Estimated remaining time: 56 minutes, 57 seconds.\n",
      "Growing trees.. Progress: 55%. Estimated remaining time: 56 minutes, 24 seconds.\n",
      "Growing trees.. Progress: 55%. Estimated remaining time: 55 minutes, 47 seconds.\n",
      "Growing trees.. Progress: 56%. Estimated remaining time: 55 minutes, 18 seconds.\n",
      "Growing trees.. Progress: 56%. Estimated remaining time: 54 minutes, 49 seconds.\n",
      "Growing trees.. Progress: 57%. Estimated remaining time: 54 minutes, 13 seconds.\n",
      "Growing trees.. Progress: 57%. Estimated remaining time: 53 minutes, 40 seconds.\n",
      "Growing trees.. Progress: 58%. Estimated remaining time: 53 minutes, 8 seconds.\n",
      "Growing trees.. Progress: 58%. Estimated remaining time: 52 minutes, 34 seconds.\n",
      "Growing trees.. Progress: 58%. Estimated remaining time: 52 minutes, 8 seconds.\n",
      "Growing trees.. Progress: 59%. Estimated remaining time: 51 minutes, 37 seconds.\n",
      "Growing trees.. Progress: 59%. Estimated remaining time: 51 minutes, 4 seconds.\n",
      "Growing trees.. Progress: 60%. Estimated remaining time: 50 minutes, 29 seconds.\n",
      "Growing trees.. Progress: 60%. Estimated remaining time: 49 minutes, 55 seconds.\n",
      "Growing trees.. Progress: 61%. Estimated remaining time: 49 minutes, 24 seconds.\n",
      "Growing trees.. Progress: 61%. Estimated remaining time: 48 minutes, 50 seconds.\n",
      "Growing trees.. Progress: 61%. Estimated remaining time: 48 minutes, 17 seconds.\n",
      "Growing trees.. Progress: 62%. Estimated remaining time: 47 minutes, 44 seconds.\n",
      "Growing trees.. Progress: 62%. Estimated remaining time: 47 minutes, 13 seconds.\n",
      "Growing trees.. Progress: 63%. Estimated remaining time: 46 minutes, 41 seconds.\n",
      "Growing trees.. Progress: 63%. Estimated remaining time: 46 minutes, 7 seconds.\n",
      "Growing trees.. Progress: 64%. Estimated remaining time: 45 minutes, 31 seconds.\n",
      "Growing trees.. Progress: 64%. Estimated remaining time: 45 minutes, 1 seconds.\n",
      "Growing trees.. Progress: 64%. Estimated remaining time: 44 minutes, 30 seconds.\n",
      "Growing trees.. Progress: 65%. Estimated remaining time: 43 minutes, 56 seconds.\n",
      "Growing trees.. Progress: 65%. Estimated remaining time: 43 minutes, 25 seconds.\n",
      "Growing trees.. Progress: 66%. Estimated remaining time: 42 minutes, 54 seconds.\n",
      "Growing trees.. Progress: 66%. Estimated remaining time: 42 minutes, 22 seconds.\n",
      "Growing trees.. Progress: 67%. Estimated remaining time: 41 minutes, 48 seconds.\n",
      "Growing trees.. Progress: 67%. Estimated remaining time: 41 minutes, 15 seconds.\n",
      "Growing trees.. Progress: 67%. Estimated remaining time: 40 minutes, 42 seconds.\n",
      "Growing trees.. Progress: 68%. Estimated remaining time: 40 minutes, 12 seconds.\n",
      "Growing trees.. Progress: 68%. Estimated remaining time: 39 minutes, 39 seconds.\n",
      "Growing trees.. Progress: 69%. Estimated remaining time: 39 minutes, 9 seconds.\n",
      "Growing trees.. Progress: 69%. Estimated remaining time: 38 minutes, 36 seconds.\n",
      "Growing trees.. Progress: 70%. Estimated remaining time: 38 minutes, 4 seconds.\n",
      "Growing trees.. Progress: 70%. Estimated remaining time: 37 minutes, 33 seconds.\n",
      "Growing trees.. Progress: 70%. Estimated remaining time: 37 minutes, 1 seconds.\n",
      "Growing trees.. Progress: 71%. Estimated remaining time: 36 minutes, 30 seconds.\n",
      "Growing trees.. Progress: 71%. Estimated remaining time: 35 minutes, 56 seconds.\n",
      "Growing trees.. Progress: 72%. Estimated remaining time: 35 minutes, 28 seconds.\n",
      "Growing trees.. Progress: 72%. Estimated remaining time: 34 minutes, 55 seconds.\n",
      "Growing trees.. Progress: 73%. Estimated remaining time: 34 minutes, 24 seconds.\n",
      "Growing trees.. Progress: 73%. Estimated remaining time: 33 minutes, 51 seconds.\n",
      "Growing trees.. Progress: 73%. Estimated remaining time: 33 minutes, 17 seconds.\n",
      "Growing trees.. Progress: 74%. Estimated remaining time: 32 minutes, 48 seconds.\n",
      "Growing trees.. Progress: 74%. Estimated remaining time: 32 minutes, 16 seconds.\n",
      "Growing trees.. Progress: 75%. Estimated remaining time: 31 minutes, 45 seconds.\n",
      "Growing trees.. Progress: 75%. Estimated remaining time: 31 minutes, 15 seconds.\n",
      "Growing trees.. Progress: 75%. Estimated remaining time: 30 minutes, 44 seconds.\n",
      "Growing trees.. Progress: 76%. Estimated remaining time: 30 minutes, 13 seconds.\n",
      "Growing trees.. Progress: 76%. Estimated remaining time: 29 minutes, 41 seconds.\n",
      "Growing trees.. Progress: 77%. Estimated remaining time: 29 minutes, 10 seconds.\n",
      "Growing trees.. Progress: 77%. Estimated remaining time: 28 minutes, 40 seconds.\n",
      "Growing trees.. Progress: 78%. Estimated remaining time: 28 minutes, 9 seconds.\n",
      "Growing trees.. Progress: 78%. Estimated remaining time: 27 minutes, 33 seconds.\n",
      "Growing trees.. Progress: 78%. Estimated remaining time: 27 minutes, 0 seconds.\n",
      "Growing trees.. Progress: 79%. Estimated remaining time: 26 minutes, 29 seconds.\n",
      "Growing trees.. Progress: 79%. Estimated remaining time: 25 minutes, 56 seconds.\n",
      "Growing trees.. Progress: 80%. Estimated remaining time: 25 minutes, 24 seconds.\n",
      "Growing trees.. Progress: 80%. Estimated remaining time: 24 minutes, 51 seconds.\n",
      "Growing trees.. Progress: 81%. Estimated remaining time: 24 minutes, 21 seconds.\n",
      "Growing trees.. Progress: 81%. Estimated remaining time: 23 minutes, 46 seconds.\n",
      "Growing trees.. Progress: 81%. Estimated remaining time: 23 minutes, 14 seconds.\n",
      "Growing trees.. Progress: 82%. Estimated remaining time: 22 minutes, 43 seconds.\n",
      "Growing trees.. Progress: 82%. Estimated remaining time: 22 minutes, 11 seconds.\n",
      "Growing trees.. Progress: 83%. Estimated remaining time: 21 minutes, 42 seconds.\n",
      "Growing trees.. Progress: 83%. Estimated remaining time: 21 minutes, 8 seconds.\n",
      "Growing trees.. Progress: 84%. Estimated remaining time: 20 minutes, 35 seconds.\n",
      "Growing trees.. Progress: 84%. Estimated remaining time: 20 minutes, 5 seconds.\n",
      "Growing trees.. Progress: 84%. Estimated remaining time: 19 minutes, 32 seconds.\n",
      "Growing trees.. Progress: 85%. Estimated remaining time: 18 minutes, 59 seconds.\n",
      "Growing trees.. Progress: 85%. Estimated remaining time: 18 minutes, 26 seconds.\n",
      "Growing trees.. Progress: 86%. Estimated remaining time: 17 minutes, 54 seconds.\n",
      "Growing trees.. Progress: 86%. Estimated remaining time: 17 minutes, 25 seconds.\n",
      "Growing trees.. Progress: 87%. Estimated remaining time: 16 minutes, 53 seconds.\n",
      "Growing trees.. Progress: 87%. Estimated remaining time: 16 minutes, 18 seconds.\n",
      "Growing trees.. Progress: 87%. Estimated remaining time: 15 minutes, 47 seconds.\n",
      "Growing trees.. Progress: 88%. Estimated remaining time: 15 minutes, 16 seconds.\n",
      "Growing trees.. Progress: 88%. Estimated remaining time: 14 minutes, 43 seconds.\n",
      "Growing trees.. Progress: 89%. Estimated remaining time: 14 minutes, 11 seconds.\n",
      "Growing trees.. Progress: 89%. Estimated remaining time: 13 minutes, 38 seconds.\n",
      "Growing trees.. Progress: 90%. Estimated remaining time: 13 minutes, 5 seconds.\n",
      "Growing trees.. Progress: 90%. Estimated remaining time: 12 minutes, 34 seconds.\n",
      "Growing trees.. Progress: 90%. Estimated remaining time: 12 minutes, 0 seconds.\n",
      "Growing trees.. Progress: 91%. Estimated remaining time: 11 minutes, 30 seconds.\n",
      "Growing trees.. Progress: 91%. Estimated remaining time: 10 minutes, 59 seconds.\n",
      "Growing trees.. Progress: 92%. Estimated remaining time: 10 minutes, 27 seconds.\n",
      "Growing trees.. Progress: 92%. Estimated remaining time: 9 minutes, 53 seconds.\n",
      "Growing trees.. Progress: 93%. Estimated remaining time: 9 minutes, 23 seconds.\n",
      "Growing trees.. Progress: 93%. Estimated remaining time: 8 minutes, 50 seconds.\n",
      "Growing trees.. Progress: 93%. Estimated remaining time: 8 minutes, 18 seconds.\n",
      "Growing trees.. Progress: 94%. Estimated remaining time: 7 minutes, 45 seconds.\n",
      "Growing trees.. Progress: 94%. Estimated remaining time: 7 minutes, 10 seconds.\n",
      "Growing trees.. Progress: 95%. Estimated remaining time: 6 minutes, 37 seconds.\n",
      "Growing trees.. Progress: 95%. Estimated remaining time: 6 minutes, 6 seconds.\n",
      "Growing trees.. Progress: 96%. Estimated remaining time: 5 minutes, 34 seconds.\n",
      "Growing trees.. Progress: 96%. Estimated remaining time: 5 minutes, 1 seconds.\n",
      "Growing trees.. Progress: 96%. Estimated remaining time: 4 minutes, 28 seconds.\n",
      "Growing trees.. Progress: 97%. Estimated remaining time: 3 minutes, 57 seconds.\n",
      "Growing trees.. Progress: 97%. Estimated remaining time: 3 minutes, 25 seconds.\n",
      "Growing trees.. Progress: 98%. Estimated remaining time: 2 minutes, 52 seconds.\n",
      "Growing trees.. Progress: 98%. Estimated remaining time: 2 minutes, 19 seconds.\n",
      "Growing trees.. Progress: 99%. Estimated remaining time: 1 minute, 48 seconds.\n",
      "Growing trees.. Progress: 99%. Estimated remaining time: 1 minute, 15 seconds.\n",
      "Growing trees.. Progress: 99%. Estimated remaining time: 42 seconds.\n",
      "Growing trees.. Progress: 100%. Estimated remaining time: 21 seconds.\n",
      "Growing trees.. Progress: 100%. Estimated remaining time: 6 seconds.\n"
     ]
    }
   ],
   "source": [
    "vita <- var.sel.vita(x = train_df, y = train_biome, p.t = 0.05,\n",
    "                     ntree = 5000, mtry.prop = 0.2, nodesize.prop = 0.1,\n",
    "                     no.threads = 3, \n",
    "                     method = \"ranger\", type = \"classification\")"
   ]
  },
  {
   "cell_type": "code",
   "execution_count": 52,
   "id": "d526444e",
   "metadata": {},
   "outputs": [],
   "source": [
    "# save the model, just in case\n",
    "saveRDS(vita, \"outputs/gather10k_rf/scientificname_vita_varsel.RDS\")"
   ]
  },
  {
   "cell_type": "code",
   "execution_count": 53,
   "id": "2ab4369e",
   "metadata": {},
   "outputs": [],
   "source": [
    "## write predictive accessions\n",
    "var <- vita$var   # separate out selected predictive accessions\n",
    "write.table(var, \"outputs/gather10k_rf/scientificname_vita_varsel_vars.txt\", quote = F, col.names = F, row.names = F)"
   ]
  },
  {
   "cell_type": "code",
   "execution_count": 55,
   "id": "126e7dec",
   "metadata": {},
   "outputs": [],
   "source": [
    "# write out full training and testing sets as dataframes \n",
    "\n",
    "# first, re-combine class vector with\n",
    "train_df <- train_df %>%\n",
    "  mutate(ScientificName = train_biome) %>%\n",
    "  rownames_to_column(\"query_name\")\n",
    "\n",
    "test_df <- test_df %>%\n",
    "  mutate(ScientificName = test_biome) %>%\n",
    "  rownames_to_column(\"query_name\")\n",
    "\n",
    "# write full data frames\n",
    "write_csv(train_df, \"outputs/gather10k_rf/scientificname_full_training_data.csv\")\n",
    "write_csv(test_df, \"outputs/gather10k_rf/scientificname_full_testing_data.csv\")"
   ]
  },
  {
   "cell_type": "code",
   "execution_count": 56,
   "id": "a9c9fd9e",
   "metadata": {},
   "outputs": [],
   "source": [
    "# filter training and testing data to predictive accessions and write to file\n",
    "train_df_filt <- train_df[ , colnames(train_df) %in% c('query_name', 'ScientificName', var)] # subset to selectec vars\n",
    "write_csv(train_df_filt, \"outputs/gather10k_rf/scientificname_filt_training_data.csv\")\n",
    "\n",
    "test_df_filt <- test_df[ , colnames(test_df) %in% c('query_name', 'ScientificName', var)] # subset to selectec vars\n",
    "write_csv(test_df_filt, \"outputs/gather10k_rf/scientificname_filt_testing_data.csv\")"
   ]
  },
  {
   "cell_type": "code",
   "execution_count": null,
   "id": "4bdd0ed6",
   "metadata": {},
   "outputs": [],
   "source": []
  }
 ],
 "metadata": {
  "kernelspec": {
   "display_name": "R",
   "language": "R",
   "name": "ir"
  },
  "language_info": {
   "codemirror_mode": "r",
   "file_extension": ".r",
   "mimetype": "text/x-r-source",
   "name": "R",
   "pygments_lexer": "r",
   "version": "4.0.5"
  }
 },
 "nbformat": 4,
 "nbformat_minor": 5
}
