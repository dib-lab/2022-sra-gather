{
 "cells": [
  {
   "cell_type": "markdown",
   "id": "f77fed57",
   "metadata": {},
   "source": [
    "# Scraping metadata from MGnify API\n",
    "\n",
    "modified from: https://gist.github.com/SandyRogers/5d9eff7f1f7b08cfa40265f5e2adf9cd#file-fetch_paginated_mgnify_data-py\n",
    "\n",
    "MGnify provides curated biome terms for some metagenomes (ex root:Engineered:Modeled:Simulated communities (DNA mixture)). This notebook downloads biome metadata."
   ]
  },
  {
   "cell_type": "markdown",
   "id": "9f551ca5",
   "metadata": {},
   "source": [
    "## Download using pandas; breaks for endpoint \"samples\""
   ]
  },
  {
   "cell_type": "code",
   "execution_count": 4,
   "id": "d2d97bf8",
   "metadata": {},
   "outputs": [],
   "source": [
    "from jsonapi_client import Session\n",
    "import pandas as pd"
   ]
  },
  {
   "cell_type": "code",
   "execution_count": 9,
   "id": "e47ac46a",
   "metadata": {
    "scrolled": true
   },
   "outputs": [
    {
     "ename": "DocumentError",
     "evalue": "Error 400: ?",
     "output_type": "error",
     "traceback": [
      "\u001b[0;31m---------------------------------------------------------------------------\u001b[0m",
      "\u001b[0;31mDocumentError\u001b[0m                             Traceback (most recent call last)",
      "Input \u001b[0;32mIn [9]\u001b[0m, in \u001b[0;36m<module>\u001b[0;34m\u001b[0m\n\u001b[1;32m      4\u001b[0m \u001b[38;5;28;01mwith\u001b[39;00m Session(\u001b[38;5;124m\"\u001b[39m\u001b[38;5;124mhttps://www.ebi.ac.uk/metagenomics/api/v1/samples?experiment_type=metagenomic\u001b[39m\u001b[38;5;124m\"\u001b[39m) \u001b[38;5;28;01mas\u001b[39;00m mgnify:\n\u001b[1;32m      5\u001b[0m     resources \u001b[38;5;241m=\u001b[39m \u001b[38;5;28mmap\u001b[39m(\u001b[38;5;28;01mlambda\u001b[39;00m r: r\u001b[38;5;241m.\u001b[39mjson, mgnify\u001b[38;5;241m.\u001b[39miterate(endpoint))\n\u001b[0;32m----> 6\u001b[0m     resources \u001b[38;5;241m=\u001b[39m \u001b[43mpd\u001b[49m\u001b[38;5;241;43m.\u001b[39;49m\u001b[43mjson_normalize\u001b[49m\u001b[43m(\u001b[49m\u001b[43mresources\u001b[49m\u001b[43m)\u001b[49m\n\u001b[1;32m      7\u001b[0m     resources\u001b[38;5;241m.\u001b[39mto_csv(\u001b[38;5;124mf\u001b[39m\u001b[38;5;124m\"\u001b[39m\u001b[38;5;132;01m{\u001b[39;00mendpoint\u001b[38;5;132;01m}\u001b[39;00m\u001b[38;5;124m.csv\u001b[39m\u001b[38;5;124m\"\u001b[39m)\n",
      "File \u001b[0;32m~/miniconda3/envs/tidy_jupyter/lib/python3.10/site-packages/pandas/io/json/_normalize.py:441\u001b[0m, in \u001b[0;36m_json_normalize\u001b[0;34m(data, record_path, meta, meta_prefix, record_prefix, errors, sep, max_level)\u001b[0m\n\u001b[1;32m    437\u001b[0m     data \u001b[38;5;241m=\u001b[39m [data]\n\u001b[1;32m    438\u001b[0m \u001b[38;5;28;01melif\u001b[39;00m \u001b[38;5;28misinstance\u001b[39m(data, abc\u001b[38;5;241m.\u001b[39mIterable) \u001b[38;5;129;01mand\u001b[39;00m \u001b[38;5;129;01mnot\u001b[39;00m \u001b[38;5;28misinstance\u001b[39m(data, \u001b[38;5;28mstr\u001b[39m):\n\u001b[1;32m    439\u001b[0m     \u001b[38;5;66;03m# GH35923 Fix pd.json_normalize to not skip the first element of a\u001b[39;00m\n\u001b[1;32m    440\u001b[0m     \u001b[38;5;66;03m# generator input\u001b[39;00m\n\u001b[0;32m--> 441\u001b[0m     data \u001b[38;5;241m=\u001b[39m \u001b[38;5;28;43mlist\u001b[39;49m\u001b[43m(\u001b[49m\u001b[43mdata\u001b[49m\u001b[43m)\u001b[49m\n\u001b[1;32m    442\u001b[0m \u001b[38;5;28;01melse\u001b[39;00m:\n\u001b[1;32m    443\u001b[0m     \u001b[38;5;28;01mraise\u001b[39;00m \u001b[38;5;167;01mNotImplementedError\u001b[39;00m\n",
      "File \u001b[0;32m~/miniconda3/envs/tidy_jupyter/lib/python3.10/site-packages/jsonapi_client/session.py:368\u001b[0m, in \u001b[0;36mSession._iterate_sync\u001b[0;34m(self, resource_type, filter)\u001b[0m\n\u001b[1;32m    366\u001b[0m \u001b[38;5;28;01mdef\u001b[39;00m \u001b[38;5;21m_iterate_sync\u001b[39m(\u001b[38;5;28mself\u001b[39m, resource_type: \u001b[38;5;28mstr\u001b[39m, \u001b[38;5;28mfilter\u001b[39m: \u001b[38;5;124m'\u001b[39m\u001b[38;5;124mModifier\u001b[39m\u001b[38;5;124m'\u001b[39m\u001b[38;5;241m=\u001b[39m\u001b[38;5;28;01mNone\u001b[39;00m) \\\n\u001b[1;32m    367\u001b[0m         \u001b[38;5;241m-\u001b[39m\u001b[38;5;241m>\u001b[39m \u001b[38;5;124m'\u001b[39m\u001b[38;5;124mIterator[ResourceObject]\u001b[39m\u001b[38;5;124m'\u001b[39m:\n\u001b[0;32m--> 368\u001b[0m     doc \u001b[38;5;241m=\u001b[39m \u001b[38;5;28;43mself\u001b[39;49m\u001b[38;5;241;43m.\u001b[39;49m\u001b[43mget\u001b[49m\u001b[43m(\u001b[49m\u001b[43mresource_type\u001b[49m\u001b[43m,\u001b[49m\u001b[43m \u001b[49m\u001b[38;5;28;43mfilter\u001b[39;49m\u001b[43m)\u001b[49m\n\u001b[1;32m    369\u001b[0m     \u001b[38;5;28;01myield from\u001b[39;00m doc\u001b[38;5;241m.\u001b[39m_iterator_sync()\n",
      "File \u001b[0;32m~/miniconda3/envs/tidy_jupyter/lib/python3.10/site-packages/jsonapi_client/session.py:364\u001b[0m, in \u001b[0;36mSession.get\u001b[0;34m(self, resource_type, resource_id_or_filter)\u001b[0m\n\u001b[1;32m    362\u001b[0m     \u001b[38;5;28;01mreturn\u001b[39;00m \u001b[38;5;28mself\u001b[39m\u001b[38;5;241m.\u001b[39m_get_async(resource_type, resource_id_or_filter)\n\u001b[1;32m    363\u001b[0m \u001b[38;5;28;01melse\u001b[39;00m:\n\u001b[0;32m--> 364\u001b[0m     \u001b[38;5;28;01mreturn\u001b[39;00m \u001b[38;5;28;43mself\u001b[39;49m\u001b[38;5;241;43m.\u001b[39;49m\u001b[43m_get_sync\u001b[49m\u001b[43m(\u001b[49m\u001b[43mresource_type\u001b[49m\u001b[43m,\u001b[49m\u001b[43m \u001b[49m\u001b[43mresource_id_or_filter\u001b[49m\u001b[43m)\u001b[49m\n",
      "File \u001b[0;32m~/miniconda3/envs/tidy_jupyter/lib/python3.10/site-packages/jsonapi_client/session.py:340\u001b[0m, in \u001b[0;36mSession._get_sync\u001b[0;34m(self, resource_type, resource_id_or_filter)\u001b[0m\n\u001b[1;32m    337\u001b[0m resource_id, filter_ \u001b[38;5;241m=\u001b[39m \u001b[38;5;28mself\u001b[39m\u001b[38;5;241m.\u001b[39m_resource_type_and_filter(\n\u001b[1;32m    338\u001b[0m                                                         resource_id_or_filter)\n\u001b[1;32m    339\u001b[0m url \u001b[38;5;241m=\u001b[39m \u001b[38;5;28mself\u001b[39m\u001b[38;5;241m.\u001b[39m_url_for_resource(resource_type, resource_id, filter_)\n\u001b[0;32m--> 340\u001b[0m \u001b[38;5;28;01mreturn\u001b[39;00m \u001b[38;5;28;43mself\u001b[39;49m\u001b[38;5;241;43m.\u001b[39;49m\u001b[43mfetch_document_by_url\u001b[49m\u001b[43m(\u001b[49m\u001b[43murl\u001b[49m\u001b[43m)\u001b[49m\n",
      "File \u001b[0;32m~/miniconda3/envs/tidy_jupyter/lib/python3.10/site-packages/jsonapi_client/session.py:457\u001b[0m, in \u001b[0;36mSession.fetch_document_by_url\u001b[0;34m(self, url)\u001b[0m\n\u001b[1;32m    450\u001b[0m \u001b[38;5;124;03m\"\"\"\u001b[39;00m\n\u001b[1;32m    451\u001b[0m \u001b[38;5;124;03mInternal use.\u001b[39;00m\n\u001b[1;32m    452\u001b[0m \n\u001b[1;32m    453\u001b[0m \u001b[38;5;124;03mFetch Document from server by url.\u001b[39;00m\n\u001b[1;32m    454\u001b[0m \u001b[38;5;124;03m\"\"\"\u001b[39;00m\n\u001b[1;32m    456\u001b[0m \u001b[38;5;66;03m# TODO: should we try to guess type, id from url?\u001b[39;00m\n\u001b[0;32m--> 457\u001b[0m \u001b[38;5;28;01mreturn\u001b[39;00m \u001b[38;5;28mself\u001b[39m\u001b[38;5;241m.\u001b[39mdocuments_by_link\u001b[38;5;241m.\u001b[39mget(url) \u001b[38;5;129;01mor\u001b[39;00m \u001b[38;5;28;43mself\u001b[39;49m\u001b[38;5;241;43m.\u001b[39;49m\u001b[43m_ext_fetch_by_url\u001b[49m\u001b[43m(\u001b[49m\u001b[43murl\u001b[49m\u001b[43m)\u001b[49m\n",
      "File \u001b[0;32m~/miniconda3/envs/tidy_jupyter/lib/python3.10/site-packages/jsonapi_client/session.py:471\u001b[0m, in \u001b[0;36mSession._ext_fetch_by_url\u001b[0;34m(self, url)\u001b[0m\n\u001b[1;32m    470\u001b[0m \u001b[38;5;28;01mdef\u001b[39;00m \u001b[38;5;21m_ext_fetch_by_url\u001b[39m(\u001b[38;5;28mself\u001b[39m, url: \u001b[38;5;28mstr\u001b[39m) \u001b[38;5;241m-\u001b[39m\u001b[38;5;241m>\u001b[39m \u001b[38;5;124m'\u001b[39m\u001b[38;5;124mDocument\u001b[39m\u001b[38;5;124m'\u001b[39m:\n\u001b[0;32m--> 471\u001b[0m     json_data \u001b[38;5;241m=\u001b[39m \u001b[38;5;28;43mself\u001b[39;49m\u001b[38;5;241;43m.\u001b[39;49m\u001b[43m_fetch_json\u001b[49m\u001b[43m(\u001b[49m\u001b[43murl\u001b[49m\u001b[43m)\u001b[49m\n\u001b[1;32m    472\u001b[0m     \u001b[38;5;28;01mreturn\u001b[39;00m \u001b[38;5;28mself\u001b[39m\u001b[38;5;241m.\u001b[39mread(json_data, url)\n",
      "File \u001b[0;32m~/miniconda3/envs/tidy_jupyter/lib/python3.10/site-packages/jsonapi_client/session.py:494\u001b[0m, in \u001b[0;36mSession._fetch_json\u001b[0;34m(self, url)\u001b[0m\n\u001b[1;32m    491\u001b[0m     \u001b[38;5;28;01mreturn\u001b[39;00m response_content\n\u001b[1;32m    492\u001b[0m \u001b[38;5;28;01melse\u001b[39;00m:\n\u001b[0;32m--> 494\u001b[0m     \u001b[38;5;28;01mraise\u001b[39;00m DocumentError(\u001b[38;5;124mf\u001b[39m\u001b[38;5;124m'\u001b[39m\u001b[38;5;124mError \u001b[39m\u001b[38;5;132;01m{\u001b[39;00mresponse\u001b[38;5;241m.\u001b[39mstatus_code\u001b[38;5;132;01m}\u001b[39;00m\u001b[38;5;124m: \u001b[39m\u001b[38;5;124m'\u001b[39m\n\u001b[1;32m    495\u001b[0m                         \u001b[38;5;124mf\u001b[39m\u001b[38;5;124m'\u001b[39m\u001b[38;5;132;01m{\u001b[39;00merror_from_response(response_content)\u001b[38;5;132;01m}\u001b[39;00m\u001b[38;5;124m'\u001b[39m,\n\u001b[1;32m    496\u001b[0m                         errors\u001b[38;5;241m=\u001b[39m{\u001b[38;5;124m'\u001b[39m\u001b[38;5;124mstatus_code\u001b[39m\u001b[38;5;124m'\u001b[39m: response\u001b[38;5;241m.\u001b[39mstatus_code},\n\u001b[1;32m    497\u001b[0m                         response\u001b[38;5;241m=\u001b[39mresponse)\n",
      "\u001b[0;31mDocumentError\u001b[0m: Error 400: ?"
     ]
    }
   ],
   "source": [
    "# See https://www.ebi.ac.uk/metagenomics/api/docs/ for endpoints and API documentation.\n",
    "endpoint = 'samples'\n",
    "\n",
    "with Session(\"https://www.ebi.ac.uk/metagenomics/api/v1\") as mgnify:\n",
    "    resources = map(lambda r: r.json, mgnify.iterate(endpoint))\n",
    "    resources = pd.json_normalize(resources)\n",
    "    resources.to_csv(f\"{endpoint}.csv\")"
   ]
  },
  {
   "cell_type": "markdown",
   "id": "a13f5f9a",
   "metadata": {},
   "source": [
    "## Download w/o pandas"
   ]
  },
  {
   "cell_type": "code",
   "execution_count": 10,
   "id": "5ca1d444",
   "metadata": {},
   "outputs": [],
   "source": [
    "import urllib.request\n",
    "import json\n",
    "import csv"
   ]
  },
  {
   "cell_type": "code",
   "execution_count": 11,
   "id": "f80820d9",
   "metadata": {},
   "outputs": [],
   "source": [
    "# See https://www.ebi.ac.uk/metagenomics/api/docs/ for endpoints and API documentation\n",
    "# including attributes you may want as CSV columns.\n",
    "endpoint = 'samples'\n",
    "\n",
    "def get_page(url):\n",
    "    next_url = url\n",
    "    while next_url:\n",
    "        with urllib.request.urlopen(next_url) as page:\n",
    "            response = json.loads(page.read().decode())\n",
    "            data = response['data']\n",
    "            yield data\n",
    "            next_url = response['links']['next']"
   ]
  },
  {
   "cell_type": "code",
   "execution_count": 78,
   "id": "e0131549",
   "metadata": {},
   "outputs": [],
   "source": [
    "attribute_columns = [\"accession\", \"analysis-completed\", \"biome\", \"biosample\", \"collection-date\", \"environment-biome\",\n",
    "                     \"environment-feature\", \"environment-material\", \"geo-loc-name\", \"host-tax-id\", \"last-update\",\n",
    "                     \"latitude\", \"longitude\", \"runs\", \"sample-alias\", \"sample-desc\", 'experiment-type', 'study']\n",
    "all_columns = [\"accession\", \"analysis-completed\", \"biome\", \"biosample\", \"collection-date\", \"environment-biome\",\n",
    "               \"environment-feature\", \"environment-material\", \"geo-loc-name\", \"host-tax-id\", \"last-update\",\n",
    "               \"latitude\", \"longitude\", \"runs\", \"sample-alias\", \"sample-desc\", 'experiment-type', 'study', \n",
    "               'biome']\n"
   ]
  },
  {
   "cell_type": "code",
   "execution_count": 88,
   "id": "f7926721",
   "metadata": {},
   "outputs": [],
   "source": [
    "with open(f\"{endpoint}.csv\", \"w\") as csv_file:\n",
    "    c = csv.writer(csv_file)\n",
    "    c.writerow(all_columns)\n",
    "    for page in get_page(f\"https://www.ebi.ac.uk/metagenomics/api/v1/{endpoint}\"):\n",
    "        for resource in page:\n",
    "            lst = [resource['attributes'].get(col) for col in attribute_columns] \n",
    "            lst.append(resource['relationships']['biome']['data']['id']) # biome\n",
    "            #lst.append(resource['relationships']['studies']['data'][0]['id']) # study\n",
    "            c.writerow(lst)    "
   ]
  },
  {
   "cell_type": "code",
   "execution_count": 86,
   "id": "c6859ab1",
   "metadata": {},
   "outputs": [
    {
     "data": {
      "text/plain": [
       "{'type': 'samples',\n",
       " 'id': 'SRS458854',\n",
       " 'attributes': {'longitude': None,\n",
       "  'sample-metadata': [{'key': 'host taxid', 'value': '9606', 'unit': None},\n",
       "   {'key': 'NCBI sample classification', 'value': '646099', 'unit': None},\n",
       "   {'key': 'instrument model', 'value': '454 GS FLX Titanium', 'unit': None},\n",
       "   {'key': 'sample identifier', 'value': 'UAB049_8_5', 'unit': None},\n",
       "   {'key': 'host scientific name', 'value': 'Homo sapiens', 'unit': None}],\n",
       "  'latitude': None,\n",
       "  'biosample': 'SAMN02254088',\n",
       "  'accession': 'SRS458854',\n",
       "  'analysis-completed': '2016-06-13',\n",
       "  'collection-date': None,\n",
       "  'geo-loc-name': None,\n",
       "  'sample-desc': 'vaginal_metagenome UAB049_8_5',\n",
       "  'environment-biome': None,\n",
       "  'environment-feature': None,\n",
       "  'environment-material': None,\n",
       "  'sample-name': 'RAV134_UAB049_8_5',\n",
       "  'sample-alias': 'RAV134_UAB049_8_5',\n",
       "  'host-tax-id': 9606,\n",
       "  'species': 'Homo sapiens',\n",
       "  'last-update': '2022-03-17T21:59:42'},\n",
       " 'relationships': {'runs': {'links': {'related': 'https://www.ebi.ac.uk/metagenomics/api/v1/samples/SRS458854/runs'}},\n",
       "  'biome': {'data': {'type': 'biomes',\n",
       "    'id': 'root:Host-associated:Human:Reproductive system:Vagina'},\n",
       "   'links': {'related': 'https://www.ebi.ac.uk/metagenomics/api/v1/biomes/root:Host-associated:Human:Reproductive%20system:Vagina'}},\n",
       "  'studies': {'links': {'related': 'https://www.ebi.ac.uk/metagenomics/api/v1/samples/SRS458854/studies'},\n",
       "   'data': [{'type': 'studies',\n",
       "     'id': 'MGYS00001070',\n",
       "     'links': {'self': 'https://www.ebi.ac.uk/metagenomics/api/v1/studies/MGYS00001070'}}]}},\n",
       " 'links': {'self': 'https://www.ebi.ac.uk/metagenomics/api/v1/samples/SRS458854'}}"
      ]
     },
     "execution_count": 86,
     "metadata": {},
     "output_type": "execute_result"
    }
   ],
   "source": [
    "# example of what resource looks like\n",
    "resource"
   ]
  }
 ],
 "metadata": {
  "kernelspec": {
   "display_name": "Python 3 (ipykernel)",
   "language": "python",
   "name": "python3"
  },
  "language_info": {
   "codemirror_mode": {
    "name": "ipython",
    "version": 3
   },
   "file_extension": ".py",
   "mimetype": "text/x-python",
   "name": "python",
   "nbconvert_exporter": "python",
   "pygments_lexer": "ipython3",
   "version": "3.10.2"
  }
 },
 "nbformat": 4,
 "nbformat_minor": 5
}
